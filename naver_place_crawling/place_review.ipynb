{
 "cells": [
  {
   "cell_type": "code",
   "execution_count": null,
   "metadata": {},
   "outputs": [],
   "source": [
    "import requests\n",
    "from master import headers\n",
    "import json\n",
    "import pandas as pd\n",
    "\n",
    "url = \"https://pcmap-api.place.naver.com/graphql\"\n",
    "\n",
    "# headers = {'User-Agent' : '개인 user-agent', 'Content-Type': 'application/json', 'accept': '*/*', 'accept-encoding': 'gzip, deflate, br', 'accept-language': 'ko'}\n",
    "headers['Content-Type'] = \"application/json\"\n",
    "headers['accept'] = '*/*'\n",
    "headers['accept-encoding'] = 'gzip, deflate, br'\n",
    "headers['accept-language'] = 'ko'\n",
    "      \n",
    "payload = [\n",
    "\n",
    "{\n",
    "        \n",
    "        \"operationName\" : \"getVisitorReviewPhotosInVisitorReviewTab\",\n",
    "        \n",
    "        \"variables\" : {\n",
    "            \"businessId\" : \"601999582\",\n",
    "            \"businessType\": \"restaurant\",\n",
    "            \"display\" : 20,\n",
    "            \"page\":1\n",
    "        },\n",
    "        \n",
    "        \"query\" : \"query getVisitorReviewPhotosInVisitorReviewTab($businessId: String!, $businessType: String, $page: Int, $display: Int, $theme: String, $item: String) {\\n  visitorReviews(input: {businessId: $businessId, businessType: $businessType, page: $page, display: $display, theme: $theme, item: $item, isPhotoUsed: true}) {\\n    items {\\n      id\\n      rating\\n      author {\\n        id\\n        nickname\\n        from\\n        imageUrl\\n        objectId\\n        url\\n        __typename\\n      }\\n      body\\n      thumbnail\\n      media {\\n        type\\n        thumbnail\\n        __typename\\n      }\\n      tags\\n      status\\n      visited\\n      originType\\n      item {\\n        name\\n        code\\n        options\\n        __typename\\n      }\\n      businessName\\n      isFollowing\\n      visitCount\\n      votedKeywords {\\n        code\\n        iconUrl\\n        iconCode\\n        displayName\\n        __typename\\n      }\\n      __typename\\n    }\\n    starDistribution {\\n      score\\n      count\\n      __typename\\n    }\\n    hideProductSelectBox\\n    total\\n    __typename\\n  }\\n}\\n\",\n",
    "    \n",
    "    },\n",
    "\n",
    "    {\n",
    "      \"operationName\" : \"getVisitorReviewStats\",\n",
    "\n",
    "      \"query\": \"query getVisitorReviewStats($id: String, $itemId: String, $businessType: String = \\\"place\\\") {\\n  visitorReviewStats(input: {businessId: $id, itemId: $itemId, businessType: $businessType}) {\\n    id\\n    name\\n    apolloCacheId\\n    review {\\n      avgRating\\n      totalCount\\n      scores {\\n        count\\n        score\\n        __typename\\n      }\\n      starDistribution {\\n        count\\n        score\\n        __typename\\n      }\\n      imageReviewCount\\n      authorCount\\n      maxSingleReviewScoreCount\\n      maxScoreWithMaxCount\\n      __typename\\n    }\\n    analysis {\\n      themes {\\n        code\\n        label\\n        count\\n        __typename\\n      }\\n      menus {\\n        label\\n        count\\n        __typename\\n      }\\n      votedKeyword {\\n        totalCount\\n        reviewCount\\n        userCount\\n        details {\\n          category\\n          code\\n          iconUrl\\n          iconCode\\n          displayName\\n          count\\n          previousRank\\n          __typename\\n        }\\n        __typename\\n      }\\n      __typename\\n    }\\n    visitorReviewsTotal\\n    ratingReviewsTotal\\n    __typename\\n  }\\n}\\n\",\n",
    "\n",
    "    \"variables\": {\"businessType\": \"restaurant\", \"id\": \"601999582\"},\n",
    "    \"businessType\": \"restaurant\",\n",
    "    \"id\": \"601999582\"\n",
    "    },\n",
    "] \n",
    "\n",
    "\n",
    "res = requests.post(headers=headers, url=url, data=json.dumps(payload))\n",
    "\n",
    "# pd.DataFrame(res.json())\n",
    "json_result = json.loads(res.text)\n",
    "# json_result\n",
    "\n",
    "json_result"
   ]
  },
  {
   "cell_type": "code",
   "execution_count": null,
   "metadata": {},
   "outputs": [],
   "source": [
    "df = pd.DataFrame(json_result[0]['data']['visitorReviews']['items'])\n",
    "\n",
    "pd.DataFrame(json_result[1]['data']['visitorReviewStats'])[['id','review','analysis','visitorReviewsTotal','ratingReviewsTotal']]\n",
    "\n",
    "\n",
    "# 리뷰 아이콘에 위치한 데이터\n",
    "reviews = json_result[1]['data']['visitorReviewStats']['analysis']['themes']\n",
    "\n",
    "# 식당 메뉴 정보\n",
    "menus = json_result[1]['data']['visitorReviewStats']['analysis']['menus']\n",
    "\n",
    "# rating 요약 정보 (이런 점이 좋았어요.)\n",
    "ratings = json_result[1]['data']['visitorReviewStats']['analysis']['votedKeyword']['details']\n",
    "\n",
    "json_result[1]['data']['visitorReviewStats']['analysis']['themes']"
   ]
  },
  {
   "cell_type": "code",
   "execution_count": null,
   "metadata": {},
   "outputs": [],
   "source": [
    "bus_id = ['601999582','20352555']\n",
    "\n",
    "\n",
    "# 주소 파싱\n",
    "for id in bus_id:\n",
    "    r= requests.get(url=f'https://map.naver.com/v5/api/sites/summary/{id}?lang=ko',headers=headers)\n",
    "    print(r.json()['phone'])\n",
    "    print(r.json()['address'])\n",
    "    print(r.json()['name'])\n",
    "    print(r.json()['description'])\n"
   ]
  }
 ],
 "metadata": {
  "kernelspec": {
   "display_name": "Python 3.8.8",
   "language": "python",
   "name": "python3"
  },
  "language_info": {
   "name": "python",
   "version": "3.8.8"
  },
  "orig_nbformat": 4,
  "vscode": {
   "interpreter": {
    "hash": "6f5583cf1d9466b5c27e75c89cc6b383bed5736d6b16c51c8074d8690011a952"
   }
  }
 },
 "nbformat": 4,
 "nbformat_minor": 2
}
