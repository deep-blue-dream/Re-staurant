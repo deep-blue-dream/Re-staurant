{
 "cells": [
  {
   "cell_type": "code",
   "execution_count": 165,
   "metadata": {},
   "outputs": [],
   "source": [
    "import requests\n",
    "from master import headers\n",
    "import json\n",
    "import pandas as pd\n",
    "\n",
    "url = \"https://pcmap-api.place.naver.com/graphql\"\n",
    "\n",
    "# headers = {'User-Agent' : '개인 user-agent', 'Content-Type': 'application/json', 'accept': '*/*', 'accept-encoding': 'gzip, deflate, br', 'accept-language': 'ko'}\n",
    "headers['Content-Type'] = \"application/json\"\n",
    "headers['accept'] = '*/*'\n",
    "headers['accept-encoding'] = 'gzip, deflate, br'\n",
    "headers['accept-language'] = 'ko'\n",
    "    "
   ]
  },
  {
   "cell_type": "code",
   "execution_count": 166,
   "metadata": {},
   "outputs": [
    {
     "name": "stderr",
     "output_type": "stream",
     "text": [
      "c:\\Anaconda\\envs\\study\\lib\\site-packages\\pyproj\\crs\\crs.py:130: FutureWarning: '+init=<authority>:<code>' syntax is deprecated. '<authority>:<code>' is the preferred initialization method. When making the change, be mindful of axis order changes: https://pyproj4.github.io/pyproj/stable/gotchas.html#axis-order-changes-in-proj-6\n",
      "  in_crs_string = _prepare_from_proj_string(in_crs_string)\n",
      "c:\\Anaconda\\envs\\study\\lib\\site-packages\\pyproj\\crs\\crs.py:130: FutureWarning: '+init=<authority>:<code>' syntax is deprecated. '<authority>:<code>' is the preferred initialization method. When making the change, be mindful of axis order changes: https://pyproj4.github.io/pyproj/stable/gotchas.html#axis-order-changes-in-proj-6\n",
      "  in_crs_string = _prepare_from_proj_string(in_crs_string)\n",
      "C:\\Users\\강건\\AppData\\Local\\Temp/ipykernel_19524/943088905.py:4: DeprecationWarning: This function is deprecated. See: https://pyproj4.github.io/pyproj/stable/gotchas.html#upgrading-to-pyproj-2-from-pyproj-1\n",
      "  pyproj.transform(epsg3857,wgs84,14127898.0825082,4515937.3711204)\n"
     ]
    },
    {
     "data": {
      "text/plain": [
       "(126.91306779999996, 37.54920139999987)"
      ]
     },
     "execution_count": 166,
     "metadata": {},
     "output_type": "execute_result"
    }
   ],
   "source": [
    "import pyproj\n",
    "epsg3857 = pyproj.Proj(init='epsg:3857')\n",
    "wgs84 = pyproj.Proj(init='epsg:4326')\n",
    "pyproj.transform(epsg3857,wgs84,14127898.0825082,4515937.3711204)"
   ]
  },
  {
   "cell_type": "code",
   "execution_count": 167,
   "metadata": {},
   "outputs": [
    {
     "name": "stdout",
     "output_type": "stream",
     "text": [
      "잘못된 요청입니다.\n"
     ]
    }
   ],
   "source": [
    "import time\n",
    "places = {}\n",
    "for j in range(1,30):\n",
    "    r = requests.get(url=f'https://map.naver.com/v5/api/search?caller=pcweb&query=%EC%9D%8C%EC%8B%9D%EC%A0%90&type=all&searchCoord=126.91306779999996;37.54920139999987&page={j}&displayCount=100&isPlaceRecommendationReplace=true&lang=ko', headers=headers)\n",
    "    if 'error' in r.json().keys():\n",
    "        print(r.json()['error']['displayMsg'])\n",
    "        break\n",
    "    places[j] = r.json()['result']['place']['list']\n",
    "# places"
   ]
  },
  {
   "cell_type": "code",
   "execution_count": 168,
   "metadata": {},
   "outputs": [],
   "source": [
    "place_id_dict = {}\n",
    "for i in places.values():\n",
    "    for j in i:\n",
    "        place_id_dict[j['name']] = j['id']\n",
    "\n",
    "# place_id_dict"
   ]
  },
  {
   "cell_type": "code",
   "execution_count": 169,
   "metadata": {},
   "outputs": [],
   "source": [
    "place_info = []\n",
    "for idx,place in enumerate(place_id_dict.values()):\n",
    "    place_info.append(requests.get(url=f'https://map.naver.com/v5/api/sites/summary/{place}?lang=ko',headers=headers).json())\n",
    "    # if idx == 20:\n",
    "    #     break"
   ]
  },
  {
   "cell_type": "code",
   "execution_count": null,
   "metadata": {},
   "outputs": [
    {
     "data": {
      "text/plain": [
       "dict_keys(['id', 'isSite', 'name', 'type', 'rCode', 'x', 'y', 'posExact', 'address', 'fullAddress', 'addressAbbr', 'roadAddr', 'fullRoadAddress', 'phone', 'isCallLink', 'description', 'way', 'keywords', 'hasNaverTalktalkUrl', 'naverTalktalkUrl', 'adult', 'endPageUrl', 'mobileEndPageUrl', 'urlList', 'ktCallMd', 'ppc', 'images', 'imageURL', 'imageModDate', 'displayCategory', 'category', 'categories', 'categoryPaths', 'bizHour', 'bizhourInfo', 'options', 'menus', 'menuImages', 'previewImages', 'streetPanorama', 'skyPanorama', 'insidePanorama', 'interiorPanorama', 'indoorPanorama', 'entranceCoords', 'theme', 'hasNaverBooking', 'naverBookingUrl', 'naverbookingId', 'petrolInfo', 'michelinGuide', 'broadcastInfo', 'marker', 'markerSelected', 'datalab', 'reviewCount', 'dynamicData', 'markerLabel', 'isParkingSupported'])"
      ]
     },
     "execution_count": 7,
     "metadata": {},
     "output_type": "execute_result"
    }
   ],
   "source": [
    "place_info[0].keys()"
   ]
  },
  {
   "cell_type": "code",
   "execution_count": null,
   "metadata": {},
   "outputs": [],
   "source": [
    "options = pd.DataFrame(place_info[0]['options'])\n",
    "options['bus_id'] = place_info[0]['id']\n",
    "\n",
    "for idx in range(1,len(place_info)):\n",
    "    df = pd.DataFrame(place_info[idx]['options'])\n",
    "    df['bus_id'] = place_info[idx]['id']\n",
    "    options = pd.concat([options,df])\n",
    "\n",
    "options.reset_index(drop=True,inplace=True)\n",
    "\n",
    "options\n",
    "\n"
   ]
  },
  {
   "cell_type": "code",
   "execution_count": null,
   "metadata": {},
   "outputs": [],
   "source": [
    "place_profile = pd.DataFrame(place_info)[['id','name','category' ,'x','y','fullAddress','fullRoadAddress','phone','description','images','imageURL','categories','bizhourInfo','menus','reviewCount']]\n",
    "# place_profile"
   ]
  },
  {
   "cell_type": "code",
   "execution_count": null,
   "metadata": {},
   "outputs": [
    {
     "data": {
      "text/html": [
       "<div>\n",
       "<style scoped>\n",
       "    .dataframe tbody tr th:only-of-type {\n",
       "        vertical-align: middle;\n",
       "    }\n",
       "\n",
       "    .dataframe tbody tr th {\n",
       "        vertical-align: top;\n",
       "    }\n",
       "\n",
       "    .dataframe thead th {\n",
       "        text-align: right;\n",
       "    }\n",
       "</style>\n",
       "<table border=\"1\" class=\"dataframe\">\n",
       "  <thead>\n",
       "    <tr style=\"text-align: right;\">\n",
       "      <th></th>\n",
       "      <th>bus_id</th>\n",
       "      <th>number</th>\n",
       "      <th>url</th>\n",
       "      <th>modDate</th>\n",
       "    </tr>\n",
       "  </thead>\n",
       "  <tbody>\n",
       "    <tr>\n",
       "      <th>0</th>\n",
       "      <td>1266638776</td>\n",
       "      <td>1.0</td>\n",
       "      <td>https://ldb-phinf.pstatic.net/20220415_206/164...</td>\n",
       "      <td>2022-04-15 13:39:01</td>\n",
       "    </tr>\n",
       "    <tr>\n",
       "      <th>1</th>\n",
       "      <td>1266638776</td>\n",
       "      <td>2.0</td>\n",
       "      <td>https://ldb-phinf.pstatic.net/20220114_205/164...</td>\n",
       "      <td>2022-04-15 13:39:01</td>\n",
       "    </tr>\n",
       "    <tr>\n",
       "      <th>2</th>\n",
       "      <td>1266638776</td>\n",
       "      <td>3.0</td>\n",
       "      <td>https://ldb-phinf.pstatic.net/20220114_255/164...</td>\n",
       "      <td>2022-04-15 13:39:01</td>\n",
       "    </tr>\n",
       "    <tr>\n",
       "      <th>3</th>\n",
       "      <td>1266638776</td>\n",
       "      <td>4.0</td>\n",
       "      <td>https://ldb-phinf.pstatic.net/20220114_203/164...</td>\n",
       "      <td>2022-04-15 13:39:01</td>\n",
       "    </tr>\n",
       "    <tr>\n",
       "      <th>4</th>\n",
       "      <td>1266638776</td>\n",
       "      <td>5.0</td>\n",
       "      <td>https://ldb-phinf.pstatic.net/20220114_267/164...</td>\n",
       "      <td>2022-04-15 13:39:01</td>\n",
       "    </tr>\n",
       "    <tr>\n",
       "      <th>...</th>\n",
       "      <td>...</td>\n",
       "      <td>...</td>\n",
       "      <td>...</td>\n",
       "      <td>...</td>\n",
       "    </tr>\n",
       "    <tr>\n",
       "      <th>431</th>\n",
       "      <td>1661787502</td>\n",
       "      <td>1.0</td>\n",
       "      <td>https://ldb-phinf.pstatic.net/20220107_248/164...</td>\n",
       "      <td>2022-01-07 20:40:12</td>\n",
       "    </tr>\n",
       "    <tr>\n",
       "      <th>432</th>\n",
       "      <td>1661787502</td>\n",
       "      <td>2.0</td>\n",
       "      <td>https://ldb-phinf.pstatic.net/20211212_6/16392...</td>\n",
       "      <td>2022-01-07 20:40:12</td>\n",
       "    </tr>\n",
       "    <tr>\n",
       "      <th>433</th>\n",
       "      <td>1661787502</td>\n",
       "      <td>3.0</td>\n",
       "      <td>https://ldb-phinf.pstatic.net/20211212_30/1639...</td>\n",
       "      <td>2022-01-07 20:40:12</td>\n",
       "    </tr>\n",
       "    <tr>\n",
       "      <th>434</th>\n",
       "      <td>1661787502</td>\n",
       "      <td>4.0</td>\n",
       "      <td>https://ldb-phinf.pstatic.net/20211212_34/1639...</td>\n",
       "      <td>2022-01-07 20:40:12</td>\n",
       "    </tr>\n",
       "    <tr>\n",
       "      <th>435</th>\n",
       "      <td>1661787502</td>\n",
       "      <td>5.0</td>\n",
       "      <td>https://ldb-phinf.pstatic.net/20211212_256/163...</td>\n",
       "      <td>2022-01-07 20:40:12</td>\n",
       "    </tr>\n",
       "  </tbody>\n",
       "</table>\n",
       "<p>436 rows × 4 columns</p>\n",
       "</div>"
      ],
      "text/plain": [
       "         bus_id  number                                                url  \\\n",
       "0    1266638776     1.0  https://ldb-phinf.pstatic.net/20220415_206/164...   \n",
       "1    1266638776     2.0  https://ldb-phinf.pstatic.net/20220114_205/164...   \n",
       "2    1266638776     3.0  https://ldb-phinf.pstatic.net/20220114_255/164...   \n",
       "3    1266638776     4.0  https://ldb-phinf.pstatic.net/20220114_203/164...   \n",
       "4    1266638776     5.0  https://ldb-phinf.pstatic.net/20220114_267/164...   \n",
       "..          ...     ...                                                ...   \n",
       "431  1661787502     1.0  https://ldb-phinf.pstatic.net/20220107_248/164...   \n",
       "432  1661787502     2.0  https://ldb-phinf.pstatic.net/20211212_6/16392...   \n",
       "433  1661787502     3.0  https://ldb-phinf.pstatic.net/20211212_30/1639...   \n",
       "434  1661787502     4.0  https://ldb-phinf.pstatic.net/20211212_34/1639...   \n",
       "435  1661787502     5.0  https://ldb-phinf.pstatic.net/20211212_256/163...   \n",
       "\n",
       "                 modDate  \n",
       "0    2022-04-15 13:39:01  \n",
       "1    2022-04-15 13:39:01  \n",
       "2    2022-04-15 13:39:01  \n",
       "3    2022-04-15 13:39:01  \n",
       "4    2022-04-15 13:39:01  \n",
       "..                   ...  \n",
       "431  2022-01-07 20:40:12  \n",
       "432  2022-01-07 20:40:12  \n",
       "433  2022-01-07 20:40:12  \n",
       "434  2022-01-07 20:40:12  \n",
       "435  2022-01-07 20:40:12  \n",
       "\n",
       "[436 rows x 4 columns]"
      ]
     },
     "execution_count": 10,
     "metadata": {},
     "output_type": "execute_result"
    }
   ],
   "source": [
    "# images 테이블\n",
    "images_list = []\n",
    "for i in range(len(place_info)):\n",
    "    for j in range(len(place_info[i]['images'])):\n",
    "        place_info[i]['images'][j]['bus_id'] = place_info[i]['id']\n",
    "    images_list.append(place_info[i]['images'])\n",
    "\n",
    "df = pd.DataFrame(images_list[0])\n",
    "\n",
    "for i in range(1,len(images_list)):\n",
    "    df = pd.concat([df,pd.DataFrame(images_list[i])])\n",
    "\n",
    "df = df.reset_index(drop=True)[['bus_id','number','url','modDate']]\n",
    "df"
   ]
  },
  {
   "cell_type": "code",
   "execution_count": null,
   "metadata": {},
   "outputs": [
    {
     "data": {
      "text/html": [
       "<div>\n",
       "<style scoped>\n",
       "    .dataframe tbody tr th:only-of-type {\n",
       "        vertical-align: middle;\n",
       "    }\n",
       "\n",
       "    .dataframe tbody tr th {\n",
       "        vertical-align: top;\n",
       "    }\n",
       "\n",
       "    .dataframe thead th {\n",
       "        text-align: right;\n",
       "    }\n",
       "</style>\n",
       "<table border=\"1\" class=\"dataframe\">\n",
       "  <thead>\n",
       "    <tr style=\"text-align: right;\">\n",
       "      <th></th>\n",
       "      <th>bus_id</th>\n",
       "      <th>name</th>\n",
       "      <th>price</th>\n",
       "    </tr>\n",
       "  </thead>\n",
       "  <tbody>\n",
       "    <tr>\n",
       "      <th>0</th>\n",
       "      <td>1266638776</td>\n",
       "      <td>공감 제철 특 사시미</td>\n",
       "      <td>62,000원</td>\n",
       "    </tr>\n",
       "    <tr>\n",
       "      <th>1</th>\n",
       "      <td>1266638776</td>\n",
       "      <td>공감 제철 모듬 사시미</td>\n",
       "      <td>39,000원</td>\n",
       "    </tr>\n",
       "    <tr>\n",
       "      <th>2</th>\n",
       "      <td>1266638776</td>\n",
       "      <td>광어 + 연어 사시미</td>\n",
       "      <td>38,000원</td>\n",
       "    </tr>\n",
       "    <tr>\n",
       "      <th>3</th>\n",
       "      <td>1266638776</td>\n",
       "      <td>광어 사시미</td>\n",
       "      <td>33,000원</td>\n",
       "    </tr>\n",
       "    <tr>\n",
       "      <th>4</th>\n",
       "      <td>1266638776</td>\n",
       "      <td>치즈해물삼겹 오꼬노미야끼</td>\n",
       "      <td>26,000원</td>\n",
       "    </tr>\n",
       "    <tr>\n",
       "      <th>...</th>\n",
       "      <td>...</td>\n",
       "      <td>...</td>\n",
       "      <td>...</td>\n",
       "    </tr>\n",
       "    <tr>\n",
       "      <th>271</th>\n",
       "      <td>1661787502</td>\n",
       "      <td>미나리해물전</td>\n",
       "      <td>18,000원</td>\n",
       "    </tr>\n",
       "    <tr>\n",
       "      <th>272</th>\n",
       "      <td>1661787502</td>\n",
       "      <td>미나리파스타</td>\n",
       "      <td>18,000원</td>\n",
       "    </tr>\n",
       "    <tr>\n",
       "      <th>273</th>\n",
       "      <td>1661787502</td>\n",
       "      <td>가지샌드</td>\n",
       "      <td>20,000원</td>\n",
       "    </tr>\n",
       "    <tr>\n",
       "      <th>274</th>\n",
       "      <td>1661787502</td>\n",
       "      <td>바질치킨난반</td>\n",
       "      <td>18,000원</td>\n",
       "    </tr>\n",
       "    <tr>\n",
       "      <th>275</th>\n",
       "      <td>1661787502</td>\n",
       "      <td>닭껍질교자</td>\n",
       "      <td>10,000원</td>\n",
       "    </tr>\n",
       "  </tbody>\n",
       "</table>\n",
       "<p>276 rows × 3 columns</p>\n",
       "</div>"
      ],
      "text/plain": [
       "         bus_id           name    price\n",
       "0    1266638776    공감 제철 특 사시미  62,000원\n",
       "1    1266638776   공감 제철 모듬 사시미  39,000원\n",
       "2    1266638776    광어 + 연어 사시미  38,000원\n",
       "3    1266638776         광어 사시미  33,000원\n",
       "4    1266638776  치즈해물삼겹 오꼬노미야끼  26,000원\n",
       "..          ...            ...      ...\n",
       "271  1661787502         미나리해물전  18,000원\n",
       "272  1661787502         미나리파스타  18,000원\n",
       "273  1661787502           가지샌드  20,000원\n",
       "274  1661787502         바질치킨난반  18,000원\n",
       "275  1661787502          닭껍질교자  10,000원\n",
       "\n",
       "[276 rows x 3 columns]"
      ]
     },
     "execution_count": 11,
     "metadata": {},
     "output_type": "execute_result"
    }
   ],
   "source": [
    "# menus\n",
    "menus = pd.DataFrame(place_profile['menus'][0])\n",
    "menus['bus_id'] = place_profile['id'][0]\n",
    "\n",
    "for i in range(1,len(place_profile)):\n",
    "    df = pd.DataFrame(place_profile['menus'][i])\n",
    "    df['bus_id'] = place_profile['id'][i]\n",
    "    menus = pd.concat([menus,df])\n",
    "\n",
    "menus = menus[['bus_id','name','price']].reset_index(drop=True)\n",
    "menus"
   ]
  },
  {
   "cell_type": "code",
   "execution_count": null,
   "metadata": {},
   "outputs": [],
   "source": [
    "# 식당 기본 상세정보\n",
    "place_default_profile = place_profile[['id','name','category','x','y','fullAddress','fullRoadAddress','phone','description','imageURL','bizhourInfo','reviewCount']].copy()\n",
    "# place_default_profile.reset_index(drop=True,inplace=True)"
   ]
  },
  {
   "cell_type": "code",
   "execution_count": null,
   "metadata": {},
   "outputs": [],
   "source": [
    "place_default_profile.rename(columns={'id':'busId','name':'restaurantName','category':'restaurantCategory','phone':'tellNumber','bizhourInfo':'businessHourInfo'},inplace=True)"
   ]
  },
  {
   "cell_type": "code",
   "execution_count": null,
   "metadata": {},
   "outputs": [],
   "source": [
    "place_default_profile['siCode'] = place_default_profile['fullAddress'].apply(lambda x: x.split(\" \")[0])\n",
    "place_default_profile['guCode'] = place_default_profile['fullAddress'].apply(lambda x: x.split(\" \")[1])\n",
    "place_default_profile['dongCode'] = place_default_profile['fullAddress'].apply(lambda x: x.split(\" \")[2])\n",
    "\n",
    "# place_default_profile"
   ]
  },
  {
   "cell_type": "code",
   "execution_count": null,
   "metadata": {},
   "outputs": [],
   "source": [
    "import json\n",
    "payload = [{f\"{k}\":f\"{v}\" for k, v in row.items()} for _,row in place_default_profile.iterrows()]\n",
    "\n",
    "for row in payload:\n",
    "    requests.post(headers=headers, url = \"http://localhost:8080/restaurant/createRestaurantInfo\",data=json.dumps(row, indent=4, ensure_ascii=False).encode('utf-8'))"
   ]
  },
  {
   "cell_type": "code",
   "execution_count": null,
   "metadata": {},
   "outputs": [],
   "source": [
    "\n",
    "# for row in payload:\n",
    "#     print(json.dumps(row, indent=4, ensure_ascii=False))\n",
    "\n"
   ]
  }
 ],
 "metadata": {
  "kernelspec": {
   "display_name": "Python 3.8.12",
   "language": "python",
   "name": "python3"
  },
  "language_info": {
   "codemirror_mode": {
    "name": "ipython",
    "version": 3
   },
   "file_extension": ".py",
   "mimetype": "text/x-python",
   "name": "python",
   "nbconvert_exporter": "python",
   "pygments_lexer": "ipython3",
   "version": "3.8.12"
  },
  "orig_nbformat": 4,
  "vscode": {
   "interpreter": {
    "hash": "104a1e8d0e143de6671cd84bec4765ba8ff75e7b2ec0f49253e3a7f9c2043948"
   }
  }
 },
 "nbformat": 4,
 "nbformat_minor": 2
}
