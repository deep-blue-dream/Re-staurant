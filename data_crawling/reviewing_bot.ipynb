{
 "cells": [
  {
   "cell_type": "code",
   "execution_count": 87,
   "metadata": {},
   "outputs": [
    {
     "name": "stderr",
     "output_type": "stream",
     "text": [
      "/var/folders/d1/5yg0q8_x0_s4wn9j6q1k_4n40000gn/T/ipykernel_1884/3502858759.py:31: DeprecationWarning: executable_path has been deprecated, please pass in a Service object\n",
      "  driver = webdriver.Chrome(\"./chromedriver\")\n"
     ]
    }
   ],
   "source": [
    "from selenium import webdriver\n",
    "from selenium.webdriver.common.by import By\n",
    "import requests\n",
    "import json\n",
    "import pandas as pd\n",
    "import warnings\n",
    "import time \n",
    "import platform\n",
    "import pymysql\n",
    "import pandas as pd\n",
    "\n",
    "conn = pymysql.connect(host=\"localhost\",user=\"root\",password=\"qkqh1234!\",database=\"finalproject\")\n",
    "\n",
    "cur = conn.cursor()\n",
    "\n",
    "sql = \"SELECT bus_id,restaurant_name FROM restaurant\"\n",
    "\n",
    "cur.execute(sql)\n",
    "\n",
    "data = cur.fetchall()\n",
    "\n",
    "conn.close()\n",
    "\n",
    "places = pd.DataFrame(data)\n",
    "\n",
    "\n",
    "headers = {'Content-Type':\"application/json\"\n",
    "    ,\"accept\":\"*/*\",'accept-encoding':'gzip, deflate, br','accept-language':\"ko\",\"User-Agent\":\"Mozilla/5.0 (Windows NT 10.0; Win64; x64) AppleWebKit/537.36 (KHTML, like Gecko) Chrome/104.0.0.0 Safari/537.36\"}\n",
    "\n",
    "if \"mac\" in platform.platform():\n",
    "    driver = webdriver.Chrome(\"./chromedriver\")\n",
    "else:\n",
    "    driver = webdriver.Chrome(\"./chromedriver.exe\")\n",
    "\n",
    "\n",
    "driver.get(\"http://localhost:3000/login\")\n",
    "\n",
    "for i in range(6,7):\n",
    "    driver.find_element(By.CSS_SELECTOR,\n",
    "    \"#root > div > div > div.SignUp_loginInfo__IKYx6 > a:nth-child(1)\").click()\n",
    "\n",
    "    driver.find_element(By.CSS_SELECTOR,\n",
    "    \"#root > div > div > div.SignUp_content__WR\\+nJ > form > input:nth-child(2)\").send_keys(f\"gun_babo_{i}\")\n",
    "\n",
    "    driver.find_element(By.CSS_SELECTOR,\n",
    "    \"#root > div > div > div.SignUp_content__WR\\+nJ > form > input:nth-child(6)\").send_keys(f\"gunkang{i}@naver.com\")\n",
    "\n",
    "\n",
    "    driver.find_element(By.CSS_SELECTOR,\n",
    "    \"#root > div > div > div.SignUp_content__WR\\+nJ > form > input:nth-child(11)\").send_keys(\"12345678\")\n",
    "    driver.find_element(By.CSS_SELECTOR,\n",
    "    \"#root > div > div > div.SignUp_content__WR\\+nJ > form > input:nth-child(16)\").send_keys(\"12345678\")\n",
    "\n",
    "    driver.find_element(By.CSS_SELECTOR,\n",
    "    \"#root > div > div > div.SignUp_content__WR\\+nJ > form > div > button\").click()\n",
    "\n",
    "    time.sleep(0.2)\n",
    "    driver.find_element(By.CSS_SELECTOR,\n",
    "    \"#root > div > div > div.Welcome_buttons__4jqHU > button:nth-child(1)\").click()\n",
    "\n",
    "    # 로그인 수행\n",
    "    driver.find_element(By.CSS_SELECTOR,\n",
    "    \"#root > div > div > form > input:nth-child(2)\").send_keys(f\"gunkang{i}@naver.com\")\n",
    "    driver.find_element(By.CSS_SELECTOR,\n",
    "    \"#root > div > div > form > input:nth-child(6)\").send_keys(\"12345678\")\n",
    "\n",
    "    driver.find_element(By.CSS_SELECTOR,\n",
    "    \"#root > div > div > form > div > button\").click()\n",
    "    \n",
    "    time.sleep(0.3)\n",
    "    # 마이페이지 -> 메인 페이지\n",
    "    driver.find_element(By.CSS_SELECTOR, \n",
    "    \"#root > div > div.Navbar_container__yPJt0 > div:nth-child(1) > a\").click()\n",
    "\n",
    "    driver.find_element(By.CSS_SELECTOR, \n",
    "    \"#root > div > div > div.Header_background__aIS43 > div.Header_search__78Y2t > form > input\").send_keys(places.iloc[0,1])\n",
    "    driver.find_element(By.CSS_SELECTOR, \n",
    "    \"#root > div > div > div.Header_background__aIS43 > div.Header_search__78Y2t > form > button\").click()\n",
    "\n",
    "    \n",
    "    driver.find_element(By.CSS_SELECTOR,\n",
    "    \"#root > div > div.ListCard_wrapper__Gkssx > a > div > img\").click()\n",
    "\n",
    "    driver.find_element(By.CSS_SELECTOR,\n",
    "    \"#res-reviews > a\").click()\n",
    "\n",
    "    driver.find_element(By.CSS_SELECTOR,\n",
    "    \"#title\").send_keys(\"hi\")\n",
    "    \n",
    "    driver.find_element(By.CSS_SELECTOR,\n",
    "    \"#comment\").send_keys(\"hihi44545454545656565656\")\n",
    "\n",
    "    driver.find_element(By.CSS_SELECTOR,\n",
    "    \"#root > div > div.ReviewWrite_container__7s5NG > form > div:nth-child(7) > button\").click()\n",
    "\n",
    "\n",
    "\n",
    "    \n",
    "\n",
    "\n",
    "# driver.close()\n",
    "\n",
    "# # 로그인 페이지 로드\n",
    "# driver.get(\"http://localhost:3000/login\")\n",
    "# time.sleep(0.2)\n",
    "\n",
    "# # 로그인 수행\n",
    "# driver.find_element(By.CSS_SELECTOR,\"#root > div > div > form > input:nth-child(2)\").send_keys(f\"gunkang{i}@naver.com\")\n",
    "# driver.find_element(By.CSS_SELECTOR,\"#root > div > div > form > input:nth-child(6)\").send_keys(f\"12345678\")\n",
    "# driver.find_element(By.CSS_SELECTOR,\"#root > div > div > form > div > button\").click()\n",
    "# time.sleep(0.2)\n",
    "\n",
    "\n",
    "\n"
   ]
  },
  {
   "cell_type": "code",
   "execution_count": 33,
   "metadata": {},
   "outputs": [
    {
     "data": {
      "text/plain": [
       "'낙원갈비집 평택 합정점'"
      ]
     },
     "execution_count": 33,
     "metadata": {},
     "output_type": "execute_result"
    }
   ],
   "source": [
    "places.iloc[0,1]"
   ]
  },
  {
   "cell_type": "code",
   "execution_count": null,
   "metadata": {},
   "outputs": [],
   "source": [
    "url = \"https://pcmap-api.place.naver.com/graphql\"\n",
    "\n",
    "headers = {'Content-Type':\"application/json\"\n",
    "    ,\"accept\":\"*/*\",'accept-encoding':'gzip, deflate, br','accept-language':\"ko\",\"User-Agent\":\"Mozilla/5.0 (Windows NT 10.0; Win64; x64) AppleWebKit/537.36 (KHTML, like Gecko) Chrome/104.0.0.0 Safari/537.36\"}\n",
    "\n",
    "payload = {\"operationName\" : \"getVisitorReviews\",\n",
    "\"query\" : \"query getVisitorReviews($input: VisitorReviewsInput) {\\n  visitorReviews(input: $input) {\\n    items {\\n      id\\n      rating\\n      author {\\n        id\\n        nickname\\n        from\\n        imageUrl\\n        objectId\\n        url\\n        review {\\n          totalCount\\n          imageCount\\n          avgRating\\n          __typename\\n        }\\n        theme {\\n          totalCount\\n          __typename\\n        }\\n        __typename\\n      }\\n      body\\n      thumbnail\\n      media {\\n        type\\n        thumbnail\\n        class\\n        __typename\\n      }\\n      tags\\n      status\\n      visitCount\\n      viewCount\\n      visited\\n      created\\n      reply {\\n        editUrl\\n        body\\n        editedBy\\n        created\\n        replyTitle\\n        __typename\\n      }\\n      originType\\n      item {\\n        name\\n        code\\n        options\\n        __typename\\n      }\\n      language\\n      highlightOffsets\\n      apolloCacheId\\n      translatedText\\n      businessName\\n      showBookingItemName\\n      showBookingItemOptions\\n      bookingItemName\\n      bookingItemOptions\\n      votedKeywords {\\n        code\\n        iconUrl\\n        iconCode\\n        displayName\\n        __typename\\n      }\\n      userIdno\\n      isFollowing\\n      followerCount\\n      followRequested\\n      loginIdno\\n      receiptInfoUrl\\n      __typename\\n    }\\n    starDistribution {\\n      score\\n      count\\n      __typename\\n    }\\n    hideProductSelectBox\\n    total\\n    showRecommendationSort\\n    itemReviewStats {\\n      score\\n      count\\n      itemId\\n      starDistribution {\\n        score\\n        count\\n        __typename\\n      }\\n      __typename\\n    }\\n    __typename\\n  }\\n}\\n\",\n",
    "\n",
    "\"variables\" : {\n",
    "\"input\" : {\n",
    "    \"businessId\" : \"11802387\",\n",
    "\"businessType\": \"restaurant\"\n",
    "},\n",
    "}\n",
    "}\n",
    "\n",
    "res = json.loads(requests.post(headers=headers, url=url, data=json.dumps(payload)).text)\n",
    "\n",
    "res"
   ]
  },
  {
   "cell_type": "code",
   "execution_count": 80,
   "metadata": {},
   "outputs": [
    {
     "name": "stdout",
     "output_type": "stream",
     "text": [
      "dict_keys(['id', 'rating', 'author', 'body', 'thumbnail', 'media', 'tags', 'status', 'visitCount', 'viewCount', 'visited', 'created', 'reply', 'originType', 'item', 'language', 'highlightOffsets', 'apolloCacheId', 'translatedText', 'businessName', 'showBookingItemName', 'showBookingItemOptions', 'bookingItemName', 'bookingItemOptions', 'votedKeywords', 'userIdno', 'isFollowing', 'followerCount', 'followRequested', 'loginIdno', 'receiptInfoUrl', '__typename'])\n"
     ]
    }
   ],
   "source": [
    "print(res['data']['visitorReviews']['items'][0].keys())\n",
    "data = res['data']['visitorReviews']['items']"
   ]
  },
  {
   "cell_type": "code",
   "execution_count": 81,
   "metadata": {},
   "outputs": [
    {
     "name": "stdout",
     "output_type": "stream",
     "text": [
      "\n",
      "\n",
      "\n",
      "잘 먹었습니다.\n",
      "굿\n",
      "\n",
      "굿\n",
      "\n",
      "\n",
      "\n"
     ]
    }
   ],
   "source": [
    "for b in data:\n",
    "    print(b['body'])"
   ]
  },
  {
   "cell_type": "code",
   "execution_count": null,
   "metadata": {},
   "outputs": [],
   "source": []
  }
 ],
 "metadata": {
  "kernelspec": {
   "display_name": "Python 3.9.13 ('finalproject')",
   "language": "python",
   "name": "python3"
  },
  "language_info": {
   "codemirror_mode": {
    "name": "ipython",
    "version": 3
   },
   "file_extension": ".py",
   "mimetype": "text/x-python",
   "name": "python",
   "nbconvert_exporter": "python",
   "pygments_lexer": "ipython3",
   "version": "3.9.13"
  },
  "orig_nbformat": 4,
  "vscode": {
   "interpreter": {
    "hash": "2a32a1e3db3a3df7faab03eb15d423ca2f32480178c695e3b24fa0ea078e64a6"
   }
  }
 },
 "nbformat": 4,
 "nbformat_minor": 2
}
