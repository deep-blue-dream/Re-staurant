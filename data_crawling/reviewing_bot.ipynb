{
 "cells": [
  {
   "cell_type": "code",
   "execution_count": 12,
   "metadata": {},
   "outputs": [
    {
     "name": "stderr",
     "output_type": "stream",
     "text": [
      "/var/folders/d1/5yg0q8_x0_s4wn9j6q1k_4n40000gn/T/ipykernel_10007/2028856907.py:14: DeprecationWarning: executable_path has been deprecated, please pass in a Service object\n",
      "  driver = webdriver.Chrome(\"./chromedriver\")\n"
     ]
    }
   ],
   "source": [
    "from selenium import webdriver\n",
    "from selenium.webdriver.common.by import By\n",
    "import requests\n",
    "import json\n",
    "import pandas as pd\n",
    "import warnings\n",
    "import time \n",
    "import platform\n",
    "\n",
    "headers = {'Content-Type':\"application/json\"\n",
    "    ,\"accept\":\"*/*\",'accept-encoding':'gzip, deflate, br','accept-language':\"ko\",\"User-Agent\":\"Mozilla/5.0 (Windows NT 10.0; Win64; x64) AppleWebKit/537.36 (KHTML, like Gecko) Chrome/104.0.0.0 Safari/537.36\"}\n",
    "\n",
    "if \"mac\" in platform.platform():\n",
    "    driver = webdriver.Chrome(\"./chromedriver\")\n",
    "else:\n",
    "    driver = webdriver.Chrome(\"./chromedriver.exe\")\n",
    "\n",
    "\n",
    "driver.get(\"http://localhost:3000/login\")\n",
    "\n",
    "for i in range(5,7):\n",
    "    driver.find_element(By.CSS_SELECTOR,\"#root > div > div > div.SignUp_loginInfo__IKYx6 > a:nth-child(1)\").click()\n",
    "\n",
    "    driver.find_element(By.CSS_SELECTOR,\"#root > div > div > div.SignUp_content__WR\\+nJ > form > input:nth-child(2)\").send_keys(f\"gun_babo_{i}\")\n",
    "\n",
    "    driver.find_element(By.CSS_SELECTOR,\"#root > div > div > div.SignUp_content__WR\\+nJ > form > input:nth-child(6)\").send_keys(f\"gunkang{i}@naver.com\")\n",
    "\n",
    "    driver.find_element(By.CSS_SELECTOR,\"#root > div > div > div.SignUp_content__WR\\+nJ > form > input:nth-child(11)\").send_keys(\"12345678\")\n",
    "    driver.find_element(By.CSS_SELECTOR,\"#root > div > div > div.SignUp_content__WR\\+nJ > form > input:nth-child(16)\").send_keys(\"12345678\")\n",
    "\n",
    "    driver.find_element(By.CSS_SELECTOR,\"#root > div > div > div.SignUp_content__WR\\+nJ > form > div > button\").click()\n",
    "\n",
    "    time.sleep(0.2)\n",
    "    driver.find_element(By.CSS_SELECTOR,\"#root > div > div > div.Welcome_buttons__4jqHU > button:nth-child(1)\").click()\n",
    "    \n",
    "\n",
    "driver.close()\n",
    "\n",
    "# 로그인 페이지 로드\n",
    "driver.get(\"http://localhost:3000/login\")\n",
    "time.sleep(0.2)\n",
    "\n",
    "# 로그인 수행\n",
    "driver.find_element(By.CSS_SELECTOR,\"#root > div > div > form > input:nth-child(2)\").send_keys(f\"gunkang{i}@naver.com\")\n",
    "driver.find_element(By.CSS_SELECTOR,\"#root > div > div > form > input:nth-child(6)\").send_keys(f\"12345678\")\n",
    "driver.find_element(By.CSS_SELECTOR,\"#root > div > div > form > div > button\").click()\n",
    "time.sleep(0.2)\n",
    "\n",
    "\n",
    "\n",
    "\n",
    "    \n",
    "\n",
    "\n"
   ]
  },
  {
   "cell_type": "code",
   "execution_count": null,
   "metadata": {},
   "outputs": [],
   "source": []
  }
 ],
 "metadata": {
  "kernelspec": {
   "display_name": "Python 3.9.13 ('finalproject')",
   "language": "python",
   "name": "python3"
  },
  "language_info": {
   "codemirror_mode": {
    "name": "ipython",
    "version": 3
   },
   "file_extension": ".py",
   "mimetype": "text/x-python",
   "name": "python",
   "nbconvert_exporter": "python",
   "pygments_lexer": "ipython3",
   "version": "3.9.13"
  },
  "orig_nbformat": 4,
  "vscode": {
   "interpreter": {
    "hash": "2a32a1e3db3a3df7faab03eb15d423ca2f32480178c695e3b24fa0ea078e64a6"
   }
  }
 },
 "nbformat": 4,
 "nbformat_minor": 2
}
