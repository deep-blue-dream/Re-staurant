{
 "cells": [
  {
   "cell_type": "code",
   "execution_count": 1,
   "metadata": {},
   "outputs": [],
   "source": [
    "from selenium import webdriver\n",
    "from selenium.webdriver.common.by import By\n",
    "import requests\n",
    "import json\n",
    "import pandas as pd\n",
    "import warnings\n",
    "import time \n",
    "import platform\n",
    "import pymysql\n",
    "import pandas as pd\n",
    "\n",
    "def bus_id_from_db():\n",
    "    conn = pymysql.connect(host=\"localhost\",user=\"root\",password=\"qkqh1234!\",database=\"finalproject\")\n",
    "\n",
    "    cur = conn.cursor()\n",
    "\n",
    "    sql = \"SELECT bus_id,restaurant_name FROM restaurant\"\n",
    "\n",
    "    cur.execute(sql)\n",
    "\n",
    "    data = cur.fetchall()\n",
    "\n",
    "    conn.close()\n",
    "\n",
    "    return pd.DataFrame(data)\n",
    "\n",
    "\n",
    "def parsing_review(places):\n",
    "    url = \"https://pcmap-api.place.naver.com/graphql\"\n",
    "\n",
    "    headers = {'Content-Type':\"application/json\"\n",
    "        ,\"accept\":\"*/*\",'accept-encoding':'gzip, deflate, br','accept-language':\"ko\",\"User-Agent\":\"Mozilla/5.0 (Windows NT 10.0; Win64; x64) AppleWebKit/537.36 (KHTML, like Gecko) Chrome/104.0.0.0 Safari/537.36\"}\n",
    "\n",
    "    res = pd.concat([pd.DataFrame(json.loads(requests.post(headers=headers, url=url, \n",
    "        data=json.dumps({\n",
    "            \"operationName\" : \"getVisitorReviewPhotosInVisitorReviewTab\",\n",
    "            \"query\" : \"query getVisitorReviewPhotosInVisitorReviewTab($businessId: String!, $businessType: String, $page: Int, $size: Int, $theme: String, $item: String) {\\n  visitorReviews(input: {businessId: $businessId, businessType: $businessType, page: $page, size: $size, theme: $theme, item: $item, isPhotoUsed: true, includeReceiptPhotos: false}) {\\n    items {\\n      id\\n      rating\\n      author {\\n        id\\n        nickname\\n        from\\n        imageUrl\\n        objectId\\n        url\\n        __typename\\n      }\\n      body\\n      thumbnail\\n      media {\\n        type\\n        thumbnail\\n        __typename\\n      }\\n      tags\\n      status\\n      visited\\n      originType\\n      item {\\n        name\\n        code\\n        options\\n        __typename\\n      }\\n      businessName\\n      isFollowing\\n      visitCount\\n      votedKeywords {\\n        code\\n        iconUrl\\n        iconCode\\n        displayName\\n        __typename\\n      }\\n      __typename\\n    }\\n    starDistribution {\\n      score\\n      count\\n      __typename\\n    }\\n    hideProductSelectBox\\n    total\\n    __typename\\n  }\\n}\\n\",\n",
    "\n",
    "            \"variables\" : {\n",
    "                \"businessId\" : \"{}\".format(bus_id),\n",
    "                \"businessType\": \"restaurant\",\n",
    "                \"item\": \"0\",\n",
    "                \"page\": 1,\n",
    "                \"size\": 20}\n",
    "        }\n",
    "    )).text)['data']['visitorReviews']['items'])[['body','thumbnail','originType','visitCount','businessName']] for bus_id in places.iloc[:5,0]]).reset_index(drop=True)\n",
    "\n",
    "    res.to_csv('./review_data.csv',encoding='utf-8-sig')\n",
    "\n",
    "    return res\n",
    "\n",
    "\n",
    "def reviewing_bot(places,review_data):\n",
    "\n",
    "    headers = {'Content-Type':\"application/json\"\n",
    "        ,\"accept\":\"*/*\",'accept-encoding':'gzip, deflate, br','accept-language':\"ko\",\"User-Agent\":\"Mozilla/5.0 (Windows NT 10.0; Win64; x64) AppleWebKit/537.36 (KHTML, like Gecko) Chrome/104.0.0.0 Safari/537.36\"}\n",
    "\n",
    "    if \"mac\" in platform.platform():\n",
    "        driver = webdriver.Chrome(\"./chromedriver\")\n",
    "    else:\n",
    "        driver = webdriver.Chrome(\"./chromedriver.exe\")\n",
    "\n",
    "\n",
    "    driver.get(\"http://localhost:3000/login\")\n",
    "\n",
    "    for i in range(1,2):\n",
    "        driver.find_element(\"xpath\",'//*[@id=\"root\"]/div[2]/div/div/div[3]/a[1]').click()\n",
    "\n",
    "        driver.find_element(\"xpath\",'//*[@id=\"root\"]/div[2]/div/div/form/input[1]').send_keys(f\"test_babo_{i}\")\n",
    "\n",
    "        driver.find_element(\"xpath\",'//*[@id=\"root\"]/div[2]/div/div/form/input[2]').send_keys(f\"test_{i}@naver.com\")\n",
    "\n",
    "\n",
    "        driver.find_element(\"xpath\",'//*[@id=\"root\"]/div[2]/div/div/form/input[3]').send_keys(\"12345678\")\n",
    "        driver.find_element(\"xpath\",'//*[@id=\"root\"]/div[2]/div/div/form/input[4]').send_keys(\"12345678\")\n",
    "\n",
    "        driver.find_element(\"xpath\",'//*[@id=\"root\"]/div[2]/div/div/form/div/button').click()\n",
    "\n",
    "        time.sleep(0.2)\n",
    "        driver.find_element(\"xpath\",'//*[@id=\"root\"]/div/div/div[2]/button[1]').click()\n",
    "\n",
    "        # 로그인 수행\n",
    "        driver.find_element(\"xpath\",\n",
    "        '//*[@id=\"root\"]/div[2]/div/div/form/input[1]').send_keys(f\"test_{i}@naver.com\")\n",
    "\n",
    "        driver.find_element(\"xpath\",\n",
    "        '//*[@id=\"root\"]/div[2]/div/div/form/input[2]').send_keys(\"12345678\")\n",
    "\n",
    "        driver.find_element(\"xpath\",\n",
    "        '//*[@id=\"root\"]/div[2]/div/div/form/div/button').click()\n",
    "        \n",
    "        time.sleep(0.3)\n",
    "        # 마이페이지 -> 메인 페이지\n",
    "        driver.find_element(\"xpath\", \n",
    "        '//*[@id=\"root\"]/div/div[1]/div[1]/div/a').click()\n",
    "\n",
    "        for place in places.iloc[:,1]:\n",
    "            driver.find_element(\"xpath\", \n",
    "            '//*[@id=\"root\"]/div/div/div[2]/div[3]/form/input').send_keys(place)\n",
    "            driver.find_element(\"xpath\", \n",
    "            '//*[@id=\"root\"]/div/div/div[2]/div[3]/form/button').click()\n",
    "\n",
    "            \n",
    "            driver.find_element(\"xpath\",\n",
    "            '//*[@id=\"root\"]/div/div[3]/div[4]/div[1]/a/div/img').click()\n",
    "\n",
    "            driver.find_element(\"xpath\",\n",
    "            \"#res-reviews > a\").click()\n",
    "\n",
    "            # review_title\n",
    "            driver.find_element(\"xpath\",\n",
    "            \"#title\").send_keys(\"hi\")\n",
    "            \n",
    "            # review_content\n",
    "            driver.find_element(\"xpath\",\n",
    "            \"#image\").send_keys(\"hihi44545454545656565656aaa\")\n",
    "\n",
    "            # image_url\n",
    "            driver.find_element(\"xpath\",\n",
    "            \"#comment\").send_keys(\"hihi44545454545656565656\")\n",
    "\n",
    "            driver.find_element(\"xpath\",\n",
    "            \"#root > div > div.ReviewWrite_container__7s5NG > form > div:nth-child(9) > button\").click()\n",
    "\n",
    "            # review 1개 작성완료. -> 리뷰작성완료 alert창\n",
    "\n",
    "            alert = driver.switch_to.alert\n",
    "            alert.accept()\n",
    "\n",
    "            # detail => main_page\n",
    "            driver.find_element(\"xpath\",\n",
    "            \"#root > div > div.Navbar_container__yPJt0 > div:nth-child(1) > a\").click()\n",
    "        \n",
    "\n",
    "\n",
    "\n",
    "def review_program():\n",
    "    places = bus_id_from_db()\n",
    "\n",
    "    parsing_review(places)\n",
    "\n",
    "    # review_data = pd.read_csv('./review_data.csv').drop(columns=['Unnamed: 0'])\n",
    "\n",
    "    # reviewing_bot(places,review_data)\n"
   ]
  },
  {
   "cell_type": "code",
   "execution_count": 2,
   "metadata": {},
   "outputs": [
    {
     "ename": "TypeError",
     "evalue": "review_program() takes 0 positional arguments but 1 was given",
     "output_type": "error",
     "traceback": [
      "\u001b[0;31m---------------------------------------------------------------------------\u001b[0m",
      "\u001b[0;31mTypeError\u001b[0m                                 Traceback (most recent call last)",
      "\u001b[1;32m/Users/gun/Library/CloudStorage/OneDrive-한양대학교/bigdata/final_project/data_crawling/reviewing_bot.ipynb 셀 2\u001b[0m in \u001b[0;36m<cell line: 2>\u001b[0;34m()\u001b[0m\n\u001b[1;32m      <a href='vscode-notebook-cell:/Users/gun/Library/CloudStorage/OneDrive-%E1%84%92%E1%85%A1%E1%86%AB%E1%84%8B%E1%85%A3%E1%86%BC%E1%84%83%E1%85%A2%E1%84%92%E1%85%A1%E1%86%A8%E1%84%80%E1%85%AD/bigdata/final_project/data_crawling/reviewing_bot.ipynb#W1sZmlsZQ%3D%3D?line=0'>1</a>\u001b[0m data \u001b[39m=\u001b[39m bus_id_from_db()\n\u001b[0;32m----> <a href='vscode-notebook-cell:/Users/gun/Library/CloudStorage/OneDrive-%E1%84%92%E1%85%A1%E1%86%AB%E1%84%8B%E1%85%A3%E1%86%BC%E1%84%83%E1%85%A2%E1%84%92%E1%85%A1%E1%86%A8%E1%84%80%E1%85%AD/bigdata/final_project/data_crawling/reviewing_bot.ipynb#W1sZmlsZQ%3D%3D?line=1'>2</a>\u001b[0m review_program(data)\n",
      "\u001b[0;31mTypeError\u001b[0m: review_program() takes 0 positional arguments but 1 was given"
     ]
    }
   ],
   "source": [
    "data = bus_id_from_db()\n",
    "review_program(data)"
   ]
  },
  {
   "cell_type": "code",
   "execution_count": null,
   "metadata": {},
   "outputs": [],
   "source": [
    "parsing_review()"
   ]
  },
  {
   "cell_type": "code",
   "execution_count": 184,
   "metadata": {},
   "outputs": [
    {
     "data": {
      "text/plain": [
       "0     낙원갈비집 합정점\n",
       "1     낙원갈비집 합정점\n",
       "2     낙원갈비집 합정점\n",
       "3     낙원갈비집 합정점\n",
       "4     낙원갈비집 합정점\n",
       "        ...    \n",
       "95         부흥가든\n",
       "96         부흥가든\n",
       "97         부흥가든\n",
       "98         부흥가든\n",
       "99         부흥가든\n",
       "Name: businessName, Length: 100, dtype: object"
      ]
     },
     "execution_count": 184,
     "metadata": {},
     "output_type": "execute_result"
    }
   ],
   "source": [
    "df = pd.read_csv('./review_data.csv').drop(columns=['Unnamed: 0'])\n",
    "\n",
    "df.loc[:,'businessName']"
   ]
  },
  {
   "cell_type": "code",
   "execution_count": 28,
   "metadata": {},
   "outputs": [
    {
     "data": {
      "text/plain": [
       "{'id': '8jE0m',\n",
       " 'nickname': '세상에 맛있는건 많다',\n",
       " 'from': 'NAVER',\n",
       " 'imageUrl': 'https://phinf.pstatic.net/contact/20220130_215/1643523230692qic1j_JPEG/image.jpg',\n",
       " 'objectId': '5eff002e8f87a842bc4d3213',\n",
       " 'url': 'https://m.place.naver.com/my/5eff002e8f87a842bc4d3213/review?v=2',\n",
       " '__typename': 'VisitorReviewAuthor'}"
      ]
     },
     "execution_count": 28,
     "metadata": {},
     "output_type": "execute_result"
    }
   ],
   "source": [
    "url = \"https://pcmap-api.place.naver.com/graphql\"\n",
    "headers = {'Content-Type':\"application/json\"\n",
    "    ,\"accept\":\"*/*\",'accept-encoding':'gzip, deflate, br','accept-language':\"ko\",\"User-Agent\":\"Mozilla/5.0 (Windows NT 10.0; Win64; x64) AppleWebKit/537.36 (KHTML, like Gecko) Chrome/104.0.0.0 Safari/537.36\"}\n",
    "\n",
    "pd.DataFrame(json.loads(requests.post(headers=headers, url=url, \n",
    "        data=json.dumps({\n",
    "            \"operationName\" : \"getVisitorReviewPhotosInVisitorReviewTab\",\n",
    "            \"query\" : \"query getVisitorReviewPhotosInVisitorReviewTab($businessId: String!, $businessType: String, $page: Int, $size: Int, $theme: String, $item: String) {\\n  visitorReviews(input: {businessId: $businessId, businessType: $businessType, page: $page, size: $size, theme: $theme, item: $item, isPhotoUsed: true, includeReceiptPhotos: false}) {\\n    items {\\n      id\\n      rating\\n      author {\\n        id\\n        nickname\\n        from\\n        imageUrl\\n        objectId\\n        url\\n        __typename\\n      }\\n      body\\n      thumbnail\\n      media {\\n        type\\n        thumbnail\\n        __typename\\n      }\\n      tags\\n      status\\n      visited\\n      originType\\n      item {\\n        name\\n        code\\n        options\\n        __typename\\n      }\\n      businessName\\n      isFollowing\\n      visitCount\\n      votedKeywords {\\n        code\\n        iconUrl\\n        iconCode\\n        displayName\\n        __typename\\n      }\\n      __typename\\n    }\\n    starDistribution {\\n      score\\n      count\\n      __typename\\n    }\\n    hideProductSelectBox\\n    total\\n    __typename\\n  }\\n}\\n\",\n",
    "\n",
    "            \"variables\" : {\n",
    "                \"businessId\" : \"1630572480\",\n",
    "                \"businessType\": \"restaurant\",\n",
    "                \"item\": \"0\",\n",
    "                \"page\": 1,\n",
    "                \"size\": 20}\n",
    "        }\n",
    "    )).text)['data']['visitorReviews']['items'])['author'][1]"
   ]
  },
  {
   "cell_type": "code",
   "execution_count": null,
   "metadata": {},
   "outputs": [],
   "source": []
  }
 ],
 "metadata": {
  "kernelspec": {
   "display_name": "Python 3.9.13 ('finalproject')",
   "language": "python",
   "name": "python3"
  },
  "language_info": {
   "codemirror_mode": {
    "name": "ipython",
    "version": 3
   },
   "file_extension": ".py",
   "mimetype": "text/x-python",
   "name": "python",
   "nbconvert_exporter": "python",
   "pygments_lexer": "ipython3",
   "version": "3.9.13"
  },
  "vscode": {
   "interpreter": {
    "hash": "2a32a1e3db3a3df7faab03eb15d423ca2f32480178c695e3b24fa0ea078e64a6"
   }
  }
 },
 "nbformat": 4,
 "nbformat_minor": 2
}
