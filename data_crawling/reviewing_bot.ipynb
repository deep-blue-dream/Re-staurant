{
 "cells": [
  {
   "cell_type": "code",
   "execution_count": 17,
   "metadata": {},
   "outputs": [],
   "source": [
    "from selenium import webdriver\n",
    "from selenium.webdriver.common.by import By\n",
    "import requests\n",
    "import json\n",
    "import pandas as pd\n",
    "import warnings\n",
    "import time \n",
    "import platform\n",
    "import pymysql\n",
    "import pandas as pd\n",
    "\n",
    "def bus_id_from_db():\n",
    "    conn = pymysql.connect(host=\"localhost\",user=\"root\",password=\"qkqh1234!\",database=\"finalproject\")\n",
    "\n",
    "    cur = conn.cursor()\n",
    "\n",
    "    sql = \"SELECT bus_id,restaurant_name FROM restaurant\"\n",
    "\n",
    "    cur.execute(sql)\n",
    "\n",
    "    data = cur.fetchall()\n",
    "\n",
    "    conn.close()\n",
    "\n",
    "    return pd.DataFrame(data)\n",
    "\n",
    "\n",
    "def parsing_review(places):\n",
    "    url = \"https://pcmap-api.place.naver.com/graphql\"\n",
    "\n",
    "    headers = {'Content-Type':\"application/json\"\n",
    "        ,\"accept\":\"*/*\",'accept-encoding':'gzip, deflate, br','accept-language':\"ko\",\"User-Agent\":\"Mozilla/5.0 (Windows NT 10.0; Win64; x64) AppleWebKit/537.36 (KHTML, like Gecko) Chrome/104.0.0.0 Safari/537.36\"}\n",
    "\n",
    "    res = pd.concat([pd.DataFrame(json.loads(requests.post(headers=headers, url=url, \n",
    "        data=json.dumps({\n",
    "            \"operationName\" : \"getVisitorReviewPhotosInVisitorReviewTab\",\n",
    "            \"query\" : \"query getVisitorReviewPhotosInVisitorReviewTab($businessId: String!, $businessType: String, $page: Int, $size: Int, $theme: String, $item: String) {\\n  visitorReviews(input: {businessId: $businessId, businessType: $businessType, page: $page, size: $size, theme: $theme, item: $item, isPhotoUsed: true, includeReceiptPhotos: false}) {\\n    items {\\n      id\\n      rating\\n      author {\\n        id\\n        nickname\\n        from\\n        imageUrl\\n        objectId\\n        url\\n        __typename\\n      }\\n      body\\n      thumbnail\\n      media {\\n        type\\n        thumbnail\\n        __typename\\n      }\\n      tags\\n      status\\n      visited\\n      originType\\n      item {\\n        name\\n        code\\n        options\\n        __typename\\n      }\\n      businessName\\n      isFollowing\\n      visitCount\\n      votedKeywords {\\n        code\\n        iconUrl\\n        iconCode\\n        displayName\\n        __typename\\n      }\\n      __typename\\n    }\\n    starDistribution {\\n      score\\n      count\\n      __typename\\n    }\\n    hideProductSelectBox\\n    total\\n    __typename\\n  }\\n}\\n\",\n",
    "\n",
    "            \"variables\" : {\n",
    "                \"businessId\" : \"{}\".format(bus_id),\n",
    "                \"businessType\": \"restaurant\",\n",
    "                \"item\": \"0\",\n",
    "                \"page\": 1,\n",
    "                \"size\": 20}\n",
    "        }\n",
    "    )).text)['data']['visitorReviews']['items'])[['body','thumbnail','originType','visitCount','businessName']] for bus_id in places.iloc[:5,0]]).reset_index(drop=True)\n",
    "\n",
    "    res.to_csv('./review_data.csv')\n",
    "\n",
    "    return res\n",
    "\n",
    "\n",
    "def reviewing_bot(places,review_data):\n",
    "\n",
    "    headers = {'Content-Type':\"application/json\"\n",
    "        ,\"accept\":\"*/*\",'accept-encoding':'gzip, deflate, br','accept-language':\"ko\",\"User-Agent\":\"Mozilla/5.0 (Windows NT 10.0; Win64; x64) AppleWebKit/537.36 (KHTML, like Gecko) Chrome/104.0.0.0 Safari/537.36\"}\n",
    "\n",
    "    if \"mac\" in platform.platform():\n",
    "        driver = webdriver.Chrome(\"./chromedriver\")\n",
    "    else:\n",
    "        driver = webdriver.Chrome(\"./chromedriver.exe\")\n",
    "\n",
    "\n",
    "    driver.get(\"http://localhost:3000/login\")\n",
    "\n",
    "    for i in range(1,2):\n",
    "        driver.find_element(\"xpath\",'//*[@id=\"root\"]/div[2]/div/div/div[3]/a[1]').click()\n",
    "\n",
    "        driver.find_element(\"xpath\",'//*[@id=\"root\"]/div[2]/div/div/form/input[1]').send_keys(f\"test_babo_{i}\")\n",
    "\n",
    "        driver.find_element(\"xpath\",'//*[@id=\"root\"]/div[2]/div/div/form/input[2]').send_keys(f\"test_{i}@naver.com\")\n",
    "\n",
    "\n",
    "        driver.find_element(\"xpath\",'//*[@id=\"root\"]/div[2]/div/div/form/input[3]').send_keys(\"12345678\")\n",
    "        driver.find_element(\"xpath\",'//*[@id=\"root\"]/div[2]/div/div/form/input[4]').send_keys(\"12345678\")\n",
    "\n",
    "        driver.find_element(\"xpath\",'//*[@id=\"root\"]/div[2]/div/div/form/div/button').click()\n",
    "\n",
    "        time.sleep(0.2)\n",
    "        driver.find_element(\"xpath\",'//*[@id=\"root\"]/div/div/div[2]/button[1]').click()\n",
    "\n",
    "        # 로그인 수행\n",
    "        driver.find_element(\"xpath\",\n",
    "        '//*[@id=\"root\"]/div[2]/div/div/form/input[1]').send_keys(f\"test_{i}@naver.com\")\n",
    "\n",
    "        driver.find_element(\"xpath\",\n",
    "        '//*[@id=\"root\"]/div[2]/div/div/form/input[2]').send_keys(\"12345678\")\n",
    "\n",
    "        driver.find_element(\"xpath\",\n",
    "        '//*[@id=\"root\"]/div[2]/div/div/form/div/button').click()\n",
    "        \n",
    "        time.sleep(0.3)\n",
    "        # 마이페이지 -> 메인 페이지\n",
    "        driver.find_element(\"xpath\", \n",
    "        '//*[@id=\"root\"]/div/div[1]/div[1]/div/a').click()\n",
    "\n",
    "        for place in places.iloc[:,1]:\n",
    "            driver.find_element(\"xpath\", \n",
    "            '//*[@id=\"root\"]/div/div/div[2]/div[3]/form/input').send_keys(place)\n",
    "            driver.find_element(\"xpath\", \n",
    "            '//*[@id=\"root\"]/div/div/div[2]/div[3]/form/button').click()\n",
    "\n",
    "            \n",
    "            driver.find_element(\"xpath\",\n",
    "            '//*[@id=\"root\"]/div/div[3]/div[4]/div[1]/a/div/img').click()\n",
    "\n",
    "            driver.find_element(\"xpath\",\n",
    "            \"#res-reviews > a\").click()\n",
    "\n",
    "            # review_title\n",
    "            driver.find_element(\"xpath\",\n",
    "            \"#title\").send_keys(\"hi\")\n",
    "            \n",
    "            # review_content\n",
    "            driver.find_element(\"xpath\",\n",
    "            \"#image\").send_keys(\"hihi44545454545656565656aaa\")\n",
    "\n",
    "            # image_url\n",
    "            driver.find_element(\"xpath\",\n",
    "            \"#comment\").send_keys(\"hihi44545454545656565656\")\n",
    "\n",
    "            driver.find_element(\"xpath\",\n",
    "            \"#root > div > div.ReviewWrite_container__7s5NG > form > div:nth-child(9) > button\").click()\n",
    "\n",
    "            # review 1개 작성완료. -> 리뷰작성완료 alert창\n",
    "\n",
    "            alert = driver.switch_to.alert\n",
    "            alert.accept()\n",
    "\n",
    "            # detail => main_page\n",
    "            driver.find_element(\"xpath\",\n",
    "            \"#root > div > div.Navbar_container__yPJt0 > div:nth-child(1) > a\").click()\n",
    "        \n",
    "\n",
    "\n",
    "\n",
    "def review_program():\n",
    "    places = bus_id_from_db()\n",
    "\n",
    "    parsing_review(places)\n",
    "\n",
    "    review_data = pd.read_csv('./review_data.csv').drop(columns=['Unnamed: 0'])\n",
    "\n",
    "    reviewing_bot(places,review_data)\n"
   ]
  },
  {
   "cell_type": "code",
   "execution_count": 18,
   "metadata": {},
   "outputs": [
    {
     "name": "stderr",
     "output_type": "stream",
     "text": [
      "/var/folders/d1/5yg0q8_x0_s4wn9j6q1k_4n40000gn/T/ipykernel_21121/2901177878.py:57: DeprecationWarning: executable_path has been deprecated, please pass in a Service object\n",
      "  driver = webdriver.Chrome(\"./chromedriver\")\n"
     ]
    },
    {
     "ename": "InvalidSelectorException",
     "evalue": "Message: invalid selector: Unable to locate an element with the xpath expression #res-reviews > a because of the following error:\nSyntaxError: Failed to execute 'evaluate' on 'Document': The string '#res-reviews > a' is not a valid XPath expression.\n  (Session info: chrome=105.0.5195.125)\nStacktrace:\n0   chromedriver                        0x000000010ec74788 chromedriver + 4515720\n1   chromedriver                        0x000000010ebf89d3 chromedriver + 4008403\n2   chromedriver                        0x000000010e88b12a chromedriver + 413994\n3   chromedriver                        0x000000010e88e1b7 chromedriver + 426423\n4   chromedriver                        0x000000010e88e05f chromedriver + 426079\n5   chromedriver                        0x000000010e88e31c chromedriver + 426780\n6   chromedriver                        0x000000010e8c2587 chromedriver + 640391\n7   chromedriver                        0x000000010e8c2a61 chromedriver + 641633\n8   chromedriver                        0x000000010e8f4f64 chromedriver + 847716\n9   chromedriver                        0x000000010e8df7fd chromedriver + 759805\n10  chromedriver                        0x000000010e8f2bd9 chromedriver + 838617\n11  chromedriver                        0x000000010e8df603 chromedriver + 759299\n12  chromedriver                        0x000000010e8b5990 chromedriver + 588176\n13  chromedriver                        0x000000010e8b6a75 chromedriver + 592501\n14  chromedriver                        0x000000010ec446cd chromedriver + 4318925\n15  chromedriver                        0x000000010ec48f35 chromedriver + 4337461\n16  chromedriver                        0x000000010ec501ff chromedriver + 4366847\n17  chromedriver                        0x000000010ec49c5a chromedriver + 4340826\n18  chromedriver                        0x000000010ec1fc2c chromedriver + 4168748\n19  chromedriver                        0x000000010ec664f8 chromedriver + 4457720\n20  chromedriver                        0x000000010ec66693 chromedriver + 4458131\n21  chromedriver                        0x000000010ec7ba3e chromedriver + 4545086\n22  libsystem_pthread.dylib             0x00007ff81746e4e1 _pthread_start + 125\n23  libsystem_pthread.dylib             0x00007ff817469f6b thread_start + 15\n",
     "output_type": "error",
     "traceback": [
      "\u001b[0;31m---------------------------------------------------------------------------\u001b[0m",
      "\u001b[0;31mInvalidSelectorException\u001b[0m                  Traceback (most recent call last)",
      "\u001b[1;32m/Users/gun/Library/CloudStorage/OneDrive-한양대학교/bigdata/final_project/data_crawling/reviewing_bot.ipynb 셀 2\u001b[0m in \u001b[0;36m<cell line: 1>\u001b[0;34m()\u001b[0m\n\u001b[0;32m----> <a href='vscode-notebook-cell:/Users/gun/Library/CloudStorage/OneDrive-%ED%95%9C%EC%96%91%EB%8C%80%ED%95%99%EA%B5%90/bigdata/final_project/data_crawling/reviewing_bot.ipynb#W1sZmlsZQ%3D%3D?line=0'>1</a>\u001b[0m review_program()\n",
      "\u001b[1;32m/Users/gun/Library/CloudStorage/OneDrive-한양대학교/bigdata/final_project/data_crawling/reviewing_bot.ipynb 셀 2\u001b[0m in \u001b[0;36mreview_program\u001b[0;34m()\u001b[0m\n\u001b[1;32m    <a href='vscode-notebook-cell:/Users/gun/Library/CloudStorage/OneDrive-%ED%95%9C%EC%96%91%EB%8C%80%ED%95%99%EA%B5%90/bigdata/final_project/data_crawling/reviewing_bot.ipynb#W1sZmlsZQ%3D%3D?line=137'>138</a>\u001b[0m parsing_review(places)\n\u001b[1;32m    <a href='vscode-notebook-cell:/Users/gun/Library/CloudStorage/OneDrive-%ED%95%9C%EC%96%91%EB%8C%80%ED%95%99%EA%B5%90/bigdata/final_project/data_crawling/reviewing_bot.ipynb#W1sZmlsZQ%3D%3D?line=139'>140</a>\u001b[0m review_data \u001b[39m=\u001b[39m pd\u001b[39m.\u001b[39mread_csv(\u001b[39m'\u001b[39m\u001b[39m./review_data.csv\u001b[39m\u001b[39m'\u001b[39m)\u001b[39m.\u001b[39mdrop(columns\u001b[39m=\u001b[39m[\u001b[39m'\u001b[39m\u001b[39mUnnamed: 0\u001b[39m\u001b[39m'\u001b[39m])\n\u001b[0;32m--> <a href='vscode-notebook-cell:/Users/gun/Library/CloudStorage/OneDrive-%ED%95%9C%EC%96%91%EB%8C%80%ED%95%99%EA%B5%90/bigdata/final_project/data_crawling/reviewing_bot.ipynb#W1sZmlsZQ%3D%3D?line=141'>142</a>\u001b[0m reviewing_bot(places,review_data)\n",
      "\u001b[1;32m/Users/gun/Library/CloudStorage/OneDrive-한양대학교/bigdata/final_project/data_crawling/reviewing_bot.ipynb 셀 2\u001b[0m in \u001b[0;36mreviewing_bot\u001b[0;34m(places, review_data)\u001b[0m\n\u001b[1;32m     <a href='vscode-notebook-cell:/Users/gun/Library/CloudStorage/OneDrive-%ED%95%9C%EC%96%91%EB%8C%80%ED%95%99%EA%B5%90/bigdata/final_project/data_crawling/reviewing_bot.ipynb#W1sZmlsZQ%3D%3D?line=97'>98</a>\u001b[0m driver\u001b[39m.\u001b[39mfind_element(\u001b[39m\"\u001b[39m\u001b[39mxpath\u001b[39m\u001b[39m\"\u001b[39m, \n\u001b[1;32m     <a href='vscode-notebook-cell:/Users/gun/Library/CloudStorage/OneDrive-%ED%95%9C%EC%96%91%EB%8C%80%ED%95%99%EA%B5%90/bigdata/final_project/data_crawling/reviewing_bot.ipynb#W1sZmlsZQ%3D%3D?line=98'>99</a>\u001b[0m \u001b[39m'\u001b[39m\u001b[39m//*[@id=\u001b[39m\u001b[39m\"\u001b[39m\u001b[39mroot\u001b[39m\u001b[39m\"\u001b[39m\u001b[39m]/div/div/div[2]/div[3]/form/button\u001b[39m\u001b[39m'\u001b[39m)\u001b[39m.\u001b[39mclick()\n\u001b[1;32m    <a href='vscode-notebook-cell:/Users/gun/Library/CloudStorage/OneDrive-%ED%95%9C%EC%96%91%EB%8C%80%ED%95%99%EA%B5%90/bigdata/final_project/data_crawling/reviewing_bot.ipynb#W1sZmlsZQ%3D%3D?line=101'>102</a>\u001b[0m driver\u001b[39m.\u001b[39mfind_element(\u001b[39m\"\u001b[39m\u001b[39mxpath\u001b[39m\u001b[39m\"\u001b[39m,\n\u001b[1;32m    <a href='vscode-notebook-cell:/Users/gun/Library/CloudStorage/OneDrive-%ED%95%9C%EC%96%91%EB%8C%80%ED%95%99%EA%B5%90/bigdata/final_project/data_crawling/reviewing_bot.ipynb#W1sZmlsZQ%3D%3D?line=102'>103</a>\u001b[0m \u001b[39m'\u001b[39m\u001b[39m//*[@id=\u001b[39m\u001b[39m\"\u001b[39m\u001b[39mroot\u001b[39m\u001b[39m\"\u001b[39m\u001b[39m]/div/div[3]/div[4]/div[1]/a/div/img\u001b[39m\u001b[39m'\u001b[39m)\u001b[39m.\u001b[39mclick()\n\u001b[0;32m--> <a href='vscode-notebook-cell:/Users/gun/Library/CloudStorage/OneDrive-%ED%95%9C%EC%96%91%EB%8C%80%ED%95%99%EA%B5%90/bigdata/final_project/data_crawling/reviewing_bot.ipynb#W1sZmlsZQ%3D%3D?line=104'>105</a>\u001b[0m driver\u001b[39m.\u001b[39;49mfind_element(\u001b[39m\"\u001b[39;49m\u001b[39mxpath\u001b[39;49m\u001b[39m\"\u001b[39;49m,\n\u001b[1;32m    <a href='vscode-notebook-cell:/Users/gun/Library/CloudStorage/OneDrive-%ED%95%9C%EC%96%91%EB%8C%80%ED%95%99%EA%B5%90/bigdata/final_project/data_crawling/reviewing_bot.ipynb#W1sZmlsZQ%3D%3D?line=105'>106</a>\u001b[0m \u001b[39m\"\u001b[39;49m\u001b[39m#res-reviews > a\u001b[39;49m\u001b[39m\"\u001b[39;49m)\u001b[39m.\u001b[39mclick()\n\u001b[1;32m    <a href='vscode-notebook-cell:/Users/gun/Library/CloudStorage/OneDrive-%ED%95%9C%EC%96%91%EB%8C%80%ED%95%99%EA%B5%90/bigdata/final_project/data_crawling/reviewing_bot.ipynb#W1sZmlsZQ%3D%3D?line=107'>108</a>\u001b[0m \u001b[39m# review_title\u001b[39;00m\n\u001b[1;32m    <a href='vscode-notebook-cell:/Users/gun/Library/CloudStorage/OneDrive-%ED%95%9C%EC%96%91%EB%8C%80%ED%95%99%EA%B5%90/bigdata/final_project/data_crawling/reviewing_bot.ipynb#W1sZmlsZQ%3D%3D?line=108'>109</a>\u001b[0m driver\u001b[39m.\u001b[39mfind_element(\u001b[39m\"\u001b[39m\u001b[39mxpath\u001b[39m\u001b[39m\"\u001b[39m,\n\u001b[1;32m    <a href='vscode-notebook-cell:/Users/gun/Library/CloudStorage/OneDrive-%ED%95%9C%EC%96%91%EB%8C%80%ED%95%99%EA%B5%90/bigdata/final_project/data_crawling/reviewing_bot.ipynb#W1sZmlsZQ%3D%3D?line=109'>110</a>\u001b[0m \u001b[39m\"\u001b[39m\u001b[39m#title\u001b[39m\u001b[39m\"\u001b[39m)\u001b[39m.\u001b[39msend_keys(\u001b[39m\"\u001b[39m\u001b[39mhi\u001b[39m\u001b[39m\"\u001b[39m)\n",
      "File \u001b[0;32m~/opt/anaconda3/envs/finalproject/lib/python3.9/site-packages/selenium/webdriver/remote/webdriver.py:855\u001b[0m, in \u001b[0;36mWebDriver.find_element\u001b[0;34m(self, by, value)\u001b[0m\n\u001b[1;32m    852\u001b[0m     by \u001b[39m=\u001b[39m By\u001b[39m.\u001b[39mCSS_SELECTOR\n\u001b[1;32m    853\u001b[0m     value \u001b[39m=\u001b[39m \u001b[39m'\u001b[39m\u001b[39m[name=\u001b[39m\u001b[39m\"\u001b[39m\u001b[39m%s\u001b[39;00m\u001b[39m\"\u001b[39m\u001b[39m]\u001b[39m\u001b[39m'\u001b[39m \u001b[39m%\u001b[39m value\n\u001b[0;32m--> 855\u001b[0m \u001b[39mreturn\u001b[39;00m \u001b[39mself\u001b[39;49m\u001b[39m.\u001b[39;49mexecute(Command\u001b[39m.\u001b[39;49mFIND_ELEMENT, {\n\u001b[1;32m    856\u001b[0m     \u001b[39m'\u001b[39;49m\u001b[39musing\u001b[39;49m\u001b[39m'\u001b[39;49m: by,\n\u001b[1;32m    857\u001b[0m     \u001b[39m'\u001b[39;49m\u001b[39mvalue\u001b[39;49m\u001b[39m'\u001b[39;49m: value})[\u001b[39m'\u001b[39m\u001b[39mvalue\u001b[39m\u001b[39m'\u001b[39m]\n",
      "File \u001b[0;32m~/opt/anaconda3/envs/finalproject/lib/python3.9/site-packages/selenium/webdriver/remote/webdriver.py:428\u001b[0m, in \u001b[0;36mWebDriver.execute\u001b[0;34m(self, driver_command, params)\u001b[0m\n\u001b[1;32m    426\u001b[0m response \u001b[39m=\u001b[39m \u001b[39mself\u001b[39m\u001b[39m.\u001b[39mcommand_executor\u001b[39m.\u001b[39mexecute(driver_command, params)\n\u001b[1;32m    427\u001b[0m \u001b[39mif\u001b[39;00m response:\n\u001b[0;32m--> 428\u001b[0m     \u001b[39mself\u001b[39;49m\u001b[39m.\u001b[39;49merror_handler\u001b[39m.\u001b[39;49mcheck_response(response)\n\u001b[1;32m    429\u001b[0m     response[\u001b[39m'\u001b[39m\u001b[39mvalue\u001b[39m\u001b[39m'\u001b[39m] \u001b[39m=\u001b[39m \u001b[39mself\u001b[39m\u001b[39m.\u001b[39m_unwrap_value(\n\u001b[1;32m    430\u001b[0m         response\u001b[39m.\u001b[39mget(\u001b[39m'\u001b[39m\u001b[39mvalue\u001b[39m\u001b[39m'\u001b[39m, \u001b[39mNone\u001b[39;00m))\n\u001b[1;32m    431\u001b[0m     \u001b[39mreturn\u001b[39;00m response\n",
      "File \u001b[0;32m~/opt/anaconda3/envs/finalproject/lib/python3.9/site-packages/selenium/webdriver/remote/errorhandler.py:243\u001b[0m, in \u001b[0;36mErrorHandler.check_response\u001b[0;34m(self, response)\u001b[0m\n\u001b[1;32m    241\u001b[0m         alert_text \u001b[39m=\u001b[39m value[\u001b[39m'\u001b[39m\u001b[39malert\u001b[39m\u001b[39m'\u001b[39m]\u001b[39m.\u001b[39mget(\u001b[39m'\u001b[39m\u001b[39mtext\u001b[39m\u001b[39m'\u001b[39m)\n\u001b[1;32m    242\u001b[0m     \u001b[39mraise\u001b[39;00m exception_class(message, screen, stacktrace, alert_text)  \u001b[39m# type: ignore[call-arg]  # mypy is not smart enough here\u001b[39;00m\n\u001b[0;32m--> 243\u001b[0m \u001b[39mraise\u001b[39;00m exception_class(message, screen, stacktrace)\n",
      "\u001b[0;31mInvalidSelectorException\u001b[0m: Message: invalid selector: Unable to locate an element with the xpath expression #res-reviews > a because of the following error:\nSyntaxError: Failed to execute 'evaluate' on 'Document': The string '#res-reviews > a' is not a valid XPath expression.\n  (Session info: chrome=105.0.5195.125)\nStacktrace:\n0   chromedriver                        0x000000010ec74788 chromedriver + 4515720\n1   chromedriver                        0x000000010ebf89d3 chromedriver + 4008403\n2   chromedriver                        0x000000010e88b12a chromedriver + 413994\n3   chromedriver                        0x000000010e88e1b7 chromedriver + 426423\n4   chromedriver                        0x000000010e88e05f chromedriver + 426079\n5   chromedriver                        0x000000010e88e31c chromedriver + 426780\n6   chromedriver                        0x000000010e8c2587 chromedriver + 640391\n7   chromedriver                        0x000000010e8c2a61 chromedriver + 641633\n8   chromedriver                        0x000000010e8f4f64 chromedriver + 847716\n9   chromedriver                        0x000000010e8df7fd chromedriver + 759805\n10  chromedriver                        0x000000010e8f2bd9 chromedriver + 838617\n11  chromedriver                        0x000000010e8df603 chromedriver + 759299\n12  chromedriver                        0x000000010e8b5990 chromedriver + 588176\n13  chromedriver                        0x000000010e8b6a75 chromedriver + 592501\n14  chromedriver                        0x000000010ec446cd chromedriver + 4318925\n15  chromedriver                        0x000000010ec48f35 chromedriver + 4337461\n16  chromedriver                        0x000000010ec501ff chromedriver + 4366847\n17  chromedriver                        0x000000010ec49c5a chromedriver + 4340826\n18  chromedriver                        0x000000010ec1fc2c chromedriver + 4168748\n19  chromedriver                        0x000000010ec664f8 chromedriver + 4457720\n20  chromedriver                        0x000000010ec66693 chromedriver + 4458131\n21  chromedriver                        0x000000010ec7ba3e chromedriver + 4545086\n22  libsystem_pthread.dylib             0x00007ff81746e4e1 _pthread_start + 125\n23  libsystem_pthread.dylib             0x00007ff817469f6b thread_start + 15\n"
     ]
    }
   ],
   "source": [
    "data = bus_id_from_db()\n",
    "review_program(data)"
   ]
  },
  {
   "cell_type": "code",
   "execution_count": null,
   "metadata": {},
   "outputs": [],
   "source": [
    "parsing_review()"
   ]
  },
  {
   "cell_type": "code",
   "execution_count": 184,
   "metadata": {},
   "outputs": [
    {
     "data": {
      "text/plain": [
       "0     낙원갈비집 합정점\n",
       "1     낙원갈비집 합정점\n",
       "2     낙원갈비집 합정점\n",
       "3     낙원갈비집 합정점\n",
       "4     낙원갈비집 합정점\n",
       "        ...    \n",
       "95         부흥가든\n",
       "96         부흥가든\n",
       "97         부흥가든\n",
       "98         부흥가든\n",
       "99         부흥가든\n",
       "Name: businessName, Length: 100, dtype: object"
      ]
     },
     "execution_count": 184,
     "metadata": {},
     "output_type": "execute_result"
    }
   ],
   "source": [
    "df = pd.read_csv('./review_data.csv').drop(columns=['Unnamed: 0'])\n",
    "\n",
    "df.loc[:,'businessName']"
   ]
  },
  {
   "cell_type": "code",
   "execution_count": 28,
   "metadata": {},
   "outputs": [
    {
     "data": {
      "text/plain": [
       "{'id': '8jE0m',\n",
       " 'nickname': '세상에 맛있는건 많다',\n",
       " 'from': 'NAVER',\n",
       " 'imageUrl': 'https://phinf.pstatic.net/contact/20220130_215/1643523230692qic1j_JPEG/image.jpg',\n",
       " 'objectId': '5eff002e8f87a842bc4d3213',\n",
       " 'url': 'https://m.place.naver.com/my/5eff002e8f87a842bc4d3213/review?v=2',\n",
       " '__typename': 'VisitorReviewAuthor'}"
      ]
     },
     "execution_count": 28,
     "metadata": {},
     "output_type": "execute_result"
    }
   ],
   "source": [
    "url = \"https://pcmap-api.place.naver.com/graphql\"\n",
    "headers = {'Content-Type':\"application/json\"\n",
    "    ,\"accept\":\"*/*\",'accept-encoding':'gzip, deflate, br','accept-language':\"ko\",\"User-Agent\":\"Mozilla/5.0 (Windows NT 10.0; Win64; x64) AppleWebKit/537.36 (KHTML, like Gecko) Chrome/104.0.0.0 Safari/537.36\"}\n",
    "\n",
    "pd.DataFrame(json.loads(requests.post(headers=headers, url=url, \n",
    "        data=json.dumps({\n",
    "            \"operationName\" : \"getVisitorReviewPhotosInVisitorReviewTab\",\n",
    "            \"query\" : \"query getVisitorReviewPhotosInVisitorReviewTab($businessId: String!, $businessType: String, $page: Int, $size: Int, $theme: String, $item: String) {\\n  visitorReviews(input: {businessId: $businessId, businessType: $businessType, page: $page, size: $size, theme: $theme, item: $item, isPhotoUsed: true, includeReceiptPhotos: false}) {\\n    items {\\n      id\\n      rating\\n      author {\\n        id\\n        nickname\\n        from\\n        imageUrl\\n        objectId\\n        url\\n        __typename\\n      }\\n      body\\n      thumbnail\\n      media {\\n        type\\n        thumbnail\\n        __typename\\n      }\\n      tags\\n      status\\n      visited\\n      originType\\n      item {\\n        name\\n        code\\n        options\\n        __typename\\n      }\\n      businessName\\n      isFollowing\\n      visitCount\\n      votedKeywords {\\n        code\\n        iconUrl\\n        iconCode\\n        displayName\\n        __typename\\n      }\\n      __typename\\n    }\\n    starDistribution {\\n      score\\n      count\\n      __typename\\n    }\\n    hideProductSelectBox\\n    total\\n    __typename\\n  }\\n}\\n\",\n",
    "\n",
    "            \"variables\" : {\n",
    "                \"businessId\" : \"1630572480\",\n",
    "                \"businessType\": \"restaurant\",\n",
    "                \"item\": \"0\",\n",
    "                \"page\": 1,\n",
    "                \"size\": 20}\n",
    "        }\n",
    "    )).text)['data']['visitorReviews']['items'])['author'][1]"
   ]
  },
  {
   "cell_type": "code",
   "execution_count": null,
   "metadata": {},
   "outputs": [],
   "source": []
  }
 ],
 "metadata": {
  "kernelspec": {
   "display_name": "Python 3.9.13 ('finalproject')",
   "language": "python",
   "name": "python3"
  },
  "language_info": {
   "codemirror_mode": {
    "name": "ipython",
    "version": 3
   },
   "file_extension": ".py",
   "mimetype": "text/x-python",
   "name": "python",
   "nbconvert_exporter": "python",
   "pygments_lexer": "ipython3",
   "version": "3.9.13"
  },
  "vscode": {
   "interpreter": {
    "hash": "2a32a1e3db3a3df7faab03eb15d423ca2f32480178c695e3b24fa0ea078e64a6"
   }
  }
 },
 "nbformat": 4,
 "nbformat_minor": 2
}
