{
 "cells": [
  {
   "cell_type": "code",
   "execution_count": null,
   "metadata": {},
   "outputs": [],
   "source": [
    "import requests\n",
    "import json\n",
    "import pandas as pd\n",
    "\n",
    "url = \"https://pcmap-api.place.naver.com/graphql\"\n",
    "\n",
    "# headers = {'User-Agent' : '개인 user-agent', 'Content-Type': 'application/json', 'accept': '*/*', 'accept-encoding': 'gzip, deflate, br', 'accept-language': 'ko'}\n",
    "headers = {'Content-Type':\"application/json\"\n",
    "    ,\"accept\":\"*/*\",'accept-encoding':'gzip, deflate, br','accept-language':\"ko\",\"User-Agent\":\"Mozilla/5.0 (Windows NT 10.0; Win64; x64) AppleWebKit/537.36 (KHTML, like Gecko) Chrome/104.0.0.0 Safari/537.36\"}\n",
    "\n",
    "headers['Content-Type'] = \"application/json\"\n",
    "headers['accept'] = '*/*'\n",
    "headers['accept-encoding'] = 'gzip, deflate, br'\n",
    "headers['accept-language'] = 'ko'\n",
    "      \n",
    "payload = [\n",
    "\n",
    "{\n",
    "        \n",
    "        \"operationName\" : \"getVisitorReviewPhotosInVisitorReviewTab\",\n",
    "        \n",
    "        \"variables\" : {\n",
    "            \"businessId\" : \"601999582\",\n",
    "            \"businessType\": \"restaurant\",\n",
    "            \"display\" : 20,\n",
    "            \"page\":1\n",
    "        },\n",
    "        \n",
    "        \"query\" : \"query getVisitorReviewPhotosInVisitorReviewTab($businessId: String!, $businessType: String, $page: Int, $display: Int, $theme: String, $item: String) {\\n  visitorReviews(input: {businessId: $businessId, businessType: $businessType, page: $page, display: $display, theme: $theme, item: $item, isPhotoUsed: true}) {\\n    items {\\n      id\\n      rating\\n      author {\\n        id\\n        nickname\\n        from\\n        imageUrl\\n        objectId\\n        url\\n        __typename\\n      }\\n      body\\n      thumbnail\\n      media {\\n        type\\n        thumbnail\\n        __typename\\n      }\\n      tags\\n      status\\n      visited\\n      originType\\n      item {\\n        name\\n        code\\n        options\\n        __typename\\n      }\\n      businessName\\n      isFollowing\\n      visitCount\\n      votedKeywords {\\n        code\\n        iconUrl\\n        iconCode\\n        displayName\\n        __typename\\n      }\\n      __typename\\n    }\\n    starDistribution {\\n      score\\n      count\\n      __typename\\n    }\\n    hideProductSelectBox\\n    total\\n    __typename\\n  }\\n}\\n\",\n",
    "    \n",
    "    },\n",
    "\n",
    "    {\n",
    "      \"operationName\" : \"getVisitorReviewStats\",\n",
    "\n",
    "      \"query\": \"query getVisitorReviewStats($id: String, $itemId: String, $businessType: String = \\\"place\\\") {\\n  visitorReviewStats(input: {businessId: $id, itemId: $itemId, businessType: $businessType}) {\\n    id\\n    name\\n    apolloCacheId\\n    review {\\n      avgRating\\n      totalCount\\n      scores {\\n        count\\n        score\\n        __typename\\n      }\\n      starDistribution {\\n        count\\n        score\\n        __typename\\n      }\\n      imageReviewCount\\n      authorCount\\n      maxSingleReviewScoreCount\\n      maxScoreWithMaxCount\\n      __typename\\n    }\\n    analysis {\\n      themes {\\n        code\\n        label\\n        count\\n        __typename\\n      }\\n      menus {\\n        label\\n        count\\n        __typename\\n      }\\n      votedKeyword {\\n        totalCount\\n        reviewCount\\n        userCount\\n        details {\\n          category\\n          code\\n          iconUrl\\n          iconCode\\n          displayName\\n          count\\n          previousRank\\n          __typename\\n        }\\n        __typename\\n      }\\n      __typename\\n    }\\n    visitorReviewsTotal\\n    ratingReviewsTotal\\n    __typename\\n  }\\n}\\n\",\n",
    "\n",
    "    \"variables\": {\"businessType\": \"restaurant\", \"id\": \"601999582\"},\n",
    "    \"businessType\": \"restaurant\",\n",
    "    \"id\": \"601999582\"\n",
    "    },\n",
    "] \n",
    "\n",
    "\n",
    "res = requests.post(headers=headers, url=url, data=json.dumps(payload))\n",
    "\n",
    "# pd.DataFrame(res.json())\n",
    "json_result = json.loads(res.text)\n",
    "# json_result\n",
    "\n",
    "json_result"
   ]
  },
  {
   "cell_type": "code",
   "execution_count": null,
   "metadata": {},
   "outputs": [],
   "source": [
    "json_result[0]['data']['visitorReviews'].keys()"
   ]
  },
  {
   "cell_type": "code",
   "execution_count": null,
   "metadata": {},
   "outputs": [],
   "source": [
    "# review dummy\n",
    "print(json_result[0]['data']['visitorReviews']['items'][0].keys())\n",
    "data = json_result[0]['data']['visitorReviews']['items'][1]\n"
   ]
  },
  {
   "cell_type": "code",
   "execution_count": null,
   "metadata": {},
   "outputs": [],
   "source": [
    "json_result[0]['data']['visitorReviews'].keys()"
   ]
  },
  {
   "cell_type": "code",
   "execution_count": null,
   "metadata": {},
   "outputs": [],
   "source": [
    "print(json_result[1]['data']['visitorReviewStats'].keys())\n",
    "data2 = json_result[1]['data']['visitorReviewStats']"
   ]
  },
  {
   "cell_type": "code",
   "execution_count": null,
   "metadata": {},
   "outputs": [],
   "source": [
    "data2['id']\n",
    "\n",
    "data2['review']['avgRating']\n",
    "\n",
    "# data2['analysis']['themes']\n",
    "\n",
    "# data2['analysis']['votedKeyword']['details'][3]\n",
    "\n",
    "data2['review']['totalCount']\n",
    "\n",
    "data2['review']['authorCount']\n",
    "\n",
    "\n"
   ]
  },
  {
   "cell_type": "code",
   "execution_count": null,
   "metadata": {},
   "outputs": [],
   "source": [
    "data2['analysis'].keys()"
   ]
  },
  {
   "cell_type": "code",
   "execution_count": null,
   "metadata": {},
   "outputs": [],
   "source": [
    "# 평균 평점\n",
    "data2['review']['avgRating']\n",
    "\n",
    "# 방문자 리뷰 수\n",
    "data2['review']['totalCount']\n",
    "\n",
    "# \n",
    "# data2['review']['scores']\n",
    "\n",
    "# 평균 평점 참여자수\n",
    "data2['review']['authorCount']\n",
    "\n",
    "data2['review']['maxScoreWithMaxCount']\n"
   ]
  },
  {
   "cell_type": "code",
   "execution_count": null,
   "metadata": {},
   "outputs": [],
   "source": [
    "df = pd.DataFrame(json_result[0]['data']['visitorReviews']['items'])\n",
    "\n",
    "pd.DataFrame(json_result[1]['data']['visitorReviewStats'])[['id','review','analysis','visitorReviewsTotal','ratingReviewsTotal']]\n",
    "\n",
    "\n",
    "# 리뷰 아이콘에 위치한 데이터\n",
    "reviews = json_result[1]['data']['visitorReviewStats']['analysis']['themes']\n",
    "\n",
    "# 식당 메뉴 정보\n",
    "menus = json_result[1]['data']['visitorReviewStats']['analysis']['menus']\n",
    "\n",
    "# rating 요약 정보 (이런 점이 좋았어요.)\n",
    "ratings = json_result[1]['data']['visitorReviewStats']['analysis']['votedKeyword']['details']\n",
    "\n",
    "json_result[1]['data']['visitorReviewStats']['analysis']['themes']"
   ]
  },
  {
   "cell_type": "code",
   "execution_count": null,
   "metadata": {},
   "outputs": [],
   "source": [
    "import requests\n",
    "import json\n",
    "import pandas as pd\n",
    "\n",
    "url = \"https://pcmap-api.place.naver.com/graphql\"\n",
    "\n",
    "headers = {'Content-Type':\"application/json\"\n",
    "    ,\"accept\":\"*/*\",'accept-encoding':'gzip, deflate, br','accept-language':\"ko\",\"User-Agent\":\"Mozilla/5.0 (Windows NT 10.0; Win64; x64) AppleWebKit/537.36 (KHTML, like Gecko) Chrome/104.0.0.0 Safari/537.36\"}\n",
    "\n",
    "\n",
    "bus_list = [\"601999582\",\"13578191\"]\n",
    "\n",
    "places = []\n",
    "\n",
    "for bus_id in bus_list:\n",
    "    payload =     {\n",
    "        \"operationName\" : \"getVisitorReviewStats\",\n",
    "\n",
    "        \"query\": \"query getVisitorReviewStats($id: String, $itemId: String, $businessType: String = \\\"place\\\") {\\n  visitorReviewStats(input: {businessId: $id, itemId: $itemId, businessType: $businessType}) {\\n    id\\n    name\\n    apolloCacheId\\n    review {\\n      avgRating\\n      totalCount\\n      scores {\\n        count\\n        score\\n        __typename\\n      }\\n      starDistribution {\\n        count\\n        score\\n        __typename\\n      }\\n      imageReviewCount\\n      authorCount\\n      maxSingleReviewScoreCount\\n      maxScoreWithMaxCount\\n      __typename\\n    }\\n    analysis {\\n      themes {\\n        code\\n        label\\n        count\\n        __typename\\n      }\\n      menus {\\n        label\\n        count\\n        __typename\\n      }\\n      votedKeyword {\\n        totalCount\\n        reviewCount\\n        userCount\\n        details {\\n          category\\n          code\\n          iconUrl\\n          iconCode\\n          displayName\\n          count\\n          previousRank\\n          __typename\\n        }\\n        __typename\\n      }\\n      __typename\\n    }\\n    visitorReviewsTotal\\n    ratingReviewsTotal\\n    __typename\\n  }\\n}\\n\",\n",
    "\n",
    "        \"variables\": {\"businessType\": \"restaurant\", \"id\": f\"{bus_id}\"},\n",
    "        \"businessType\": \"restaurant\",\n",
    "        \"id\": f\"{bus_id}\"\n",
    "        }\n",
    "\n",
    "    res = requests.post(headers=headers, url=url, data=json.dumps(payload))\n",
    "\n",
    "    # pd.DataFrame(res.json())\n",
    "    details = json.loads(res.text)['data']['visitorReviewStats']['analysis']['votedKeyword']['details']\n",
    "\n",
    "    for detail in details:\n",
    "        detail['busId'] = bus_id\n",
    "        places.append(detail) \n",
    "\n",
    "# df = pd.DataFrame(places)\n",
    "pd.DataFrame(places)[['code','displayName','count','busId']]"
   ]
  }
 ],
 "metadata": {
  "kernelspec": {
   "display_name": "Python 3.9.13 ('finalproject')",
   "language": "python",
   "name": "python3"
  },
  "language_info": {
   "codemirror_mode": {
    "name": "ipython",
    "version": 3
   },
   "file_extension": ".py",
   "mimetype": "text/x-python",
   "name": "python",
   "nbconvert_exporter": "python",
   "pygments_lexer": "ipython3",
   "version": "3.9.13"
  },
  "orig_nbformat": 4,
  "vscode": {
   "interpreter": {
    "hash": "2a32a1e3db3a3df7faab03eb15d423ca2f32480178c695e3b24fa0ea078e64a6"
   }
  }
 },
 "nbformat": 4,
 "nbformat_minor": 2
}
