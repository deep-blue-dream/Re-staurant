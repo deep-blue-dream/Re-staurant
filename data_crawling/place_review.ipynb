{
 "cells": [
  {
   "cell_type": "code",
   "execution_count": null,
   "metadata": {},
   "outputs": [],
   "source": [
    "import requests\n",
    "import json\n",
    "import pandas as pd\n",
    "\n",
    "url = \"https://pcmap-api.place.naver.com/graphql\"\n",
    "\n",
    "# headers = {'User-Agent' : '개인 user-agent', 'Content-Type': 'application/json', 'accept': '*/*', 'accept-encoding': 'gzip, deflate, br', 'accept-language': 'ko'}\n",
    "headers = {'Content-Type':\"application/json\"\n",
    "    ,\"accept\":\"*/*\",'accept-encoding':'gzip, deflate, br','accept-language':\"ko\",\"User-Agent\":\"Mozilla/5.0 (Windows NT 10.0; Win64; x64) AppleWebKit/537.36 (KHTML, like Gecko) Chrome/104.0.0.0 Safari/537.36\"}\n",
    "\n",
    "headers['Content-Type'] = \"application/json\"\n",
    "headers['accept'] = '*/*'\n",
    "headers['accept-encoding'] = 'gzip, deflate, br'\n",
    "headers['accept-language'] = 'ko'\n",
    "      \n",
    "payload = [\n",
    "\n",
    "{\n",
    "        \n",
    "        \"operationName\" : \"getVisitorReviewPhotosInVisitorReviewTab\",\n",
    "        \n",
    "        \"variables\" : {\n",
    "            \"businessId\" : \"601999582\",\n",
    "            \"businessType\": \"restaurant\",\n",
    "            \"display\" : 20,\n",
    "            \"page\":1\n",
    "        },\n",
    "        \n",
    "        \"query\" : \"query getVisitorReviewPhotosInVisitorReviewTab($businessId: String!, $businessType: String, $page: Int, $display: Int, $theme: String, $item: String) {\\n  visitorReviews(input: {businessId: $businessId, businessType: $businessType, page: $page, display: $display, theme: $theme, item: $item, isPhotoUsed: true}) {\\n    items {\\n      id\\n      rating\\n      author {\\n        id\\n        nickname\\n        from\\n        imageUrl\\n        objectId\\n        url\\n        __typename\\n      }\\n      body\\n      thumbnail\\n      media {\\n        type\\n        thumbnail\\n        __typename\\n      }\\n      tags\\n      status\\n      visited\\n      originType\\n      item {\\n        name\\n        code\\n        options\\n        __typename\\n      }\\n      businessName\\n      isFollowing\\n      visitCount\\n      votedKeywords {\\n        code\\n        iconUrl\\n        iconCode\\n        displayName\\n        __typename\\n      }\\n      __typename\\n    }\\n    starDistribution {\\n      score\\n      count\\n      __typename\\n    }\\n    hideProductSelectBox\\n    total\\n    __typename\\n  }\\n}\\n\",\n",
    "    \n",
    "    },\n",
    "\n",
    "    {\n",
    "      \"operationName\" : \"getVisitorReviewStats\",\n",
    "\n",
    "      \"query\": \"query getVisitorReviewStats($id: String, $itemId: String, $businessType: String = \\\"place\\\") {\\n  visitorReviewStats(input: {businessId: $id, itemId: $itemId, businessType: $businessType}) {\\n    id\\n    name\\n    apolloCacheId\\n    review {\\n      avgRating\\n      totalCount\\n      scores {\\n        count\\n        score\\n        __typename\\n      }\\n      starDistribution {\\n        count\\n        score\\n        __typename\\n      }\\n      imageReviewCount\\n      authorCount\\n      maxSingleReviewScoreCount\\n      maxScoreWithMaxCount\\n      __typename\\n    }\\n    analysis {\\n      themes {\\n        code\\n        label\\n        count\\n        __typename\\n      }\\n      menus {\\n        label\\n        count\\n        __typename\\n      }\\n      votedKeyword {\\n        totalCount\\n        reviewCount\\n        userCount\\n        details {\\n          category\\n          code\\n          iconUrl\\n          iconCode\\n          displayName\\n          count\\n          previousRank\\n          __typename\\n        }\\n        __typename\\n      }\\n      __typename\\n    }\\n    visitorReviewsTotal\\n    ratingReviewsTotal\\n    __typename\\n  }\\n}\\n\",\n",
    "\n",
    "    \"variables\": {\"businessType\": \"restaurant\", \"id\": \"601999582\"},\n",
    "    \"businessType\": \"restaurant\",\n",
    "    \"id\": \"601999582\"\n",
    "    },\n",
    "] \n",
    "\n",
    "\n",
    "res = requests.post(headers=headers, url=url, data=json.dumps(payload))\n",
    "\n",
    "# pd.DataFrame(res.json())\n",
    "json_result = json.loads(res.text)\n",
    "# json_result\n",
    "\n",
    "json_result"
   ]
  },
  {
   "cell_type": "code",
   "execution_count": 8,
   "metadata": {},
   "outputs": [
    {
     "data": {
      "text/plain": [
       "dict_keys(['items', 'starDistribution', 'hideProductSelectBox', 'total', '__typename'])"
      ]
     },
     "execution_count": 8,
     "metadata": {},
     "output_type": "execute_result"
    }
   ],
   "source": [
    "json_result[0]['data']['visitorReviews'].keys()"
   ]
  },
  {
   "cell_type": "code",
   "execution_count": 20,
   "metadata": {},
   "outputs": [
    {
     "name": "stdout",
     "output_type": "stream",
     "text": [
      "dict_keys(['id', 'rating', 'author', 'body', 'thumbnail', 'media', 'tags', 'status', 'visited', 'originType', 'item', 'businessName', 'isFollowing', 'visitCount', 'votedKeywords', '__typename'])\n"
     ]
    }
   ],
   "source": [
    "# review dummy\n",
    "print(json_result[0]['data']['visitorReviews']['items'][0].keys())\n",
    "data = json_result[0]['data']['visitorReviews']['items'][1]\n"
   ]
  },
  {
   "cell_type": "code",
   "execution_count": 33,
   "metadata": {},
   "outputs": [
    {
     "data": {
      "text/plain": [
       "1"
      ]
     },
     "execution_count": 33,
     "metadata": {},
     "output_type": "execute_result"
    }
   ],
   "source": [
    "data['body']\n",
    "\n",
    "data['originType']\n",
    "\n",
    "data['visitCount']"
   ]
  },
  {
   "cell_type": "code",
   "execution_count": 37,
   "metadata": {},
   "outputs": [
    {
     "data": {
      "text/plain": [
       "dict_keys(['items', 'starDistribution', 'hideProductSelectBox', 'total', '__typename'])"
      ]
     },
     "execution_count": 37,
     "metadata": {},
     "output_type": "execute_result"
    }
   ],
   "source": [
    "json_result[0]['data']['visitorReviews'].keys()"
   ]
  },
  {
   "cell_type": "code",
   "execution_count": 50,
   "metadata": {},
   "outputs": [
    {
     "name": "stdout",
     "output_type": "stream",
     "text": [
      "dict_keys(['id', 'name', 'apolloCacheId', 'review', 'analysis', 'visitorReviewsTotal', 'ratingReviewsTotal', '__typename'])\n"
     ]
    }
   ],
   "source": [
    "print(json_result[1]['data']['visitorReviewStats'].keys())\n",
    "data2 = json_result[1]['data']['visitorReviewStats']"
   ]
  },
  {
   "cell_type": "code",
   "execution_count": 85,
   "metadata": {},
   "outputs": [
    {
     "data": {
      "text/plain": [
       "{'category': None,\n",
       " 'code': 'fresh',\n",
       " 'iconUrl': 'https://ssl.pstatic.net/static/pup/emoji/leaf20220119222023.png',\n",
       " 'iconCode': 'leaf',\n",
       " 'displayName': '재료가 신선해요',\n",
       " 'count': 362,\n",
       " 'previousRank': None,\n",
       " '__typename': 'VisitorReviewStatsAnalysisVoteKeywordDetail'}"
      ]
     },
     "execution_count": 85,
     "metadata": {},
     "output_type": "execute_result"
    }
   ],
   "source": [
    "data2['id']\n",
    "\n",
    "data2['review']\n",
    "\n",
    "data2['analysis']['themes']\n",
    "\n",
    "data2['analysis']['votedKeyword']['details'][3]\n"
   ]
  },
  {
   "cell_type": "code",
   "execution_count": 62,
   "metadata": {},
   "outputs": [
    {
     "data": {
      "text/plain": [
       "'5.0'"
      ]
     },
     "execution_count": 62,
     "metadata": {},
     "output_type": "execute_result"
    }
   ],
   "source": [
    "# 평균 평점\n",
    "data2['review']['avgRating']\n",
    "\n",
    "# 방문자 리뷰 수\n",
    "data2['review']['totalCount']\n",
    "\n",
    "# \n",
    "# data2['review']['scores']\n",
    "\n",
    "# 평균 평점 참여자수\n",
    "data2['review']['authorCount']\n",
    "\n",
    "data2['review']['maxScoreWithMaxCount']\n"
   ]
  },
  {
   "cell_type": "code",
   "execution_count": 2,
   "metadata": {},
   "outputs": [
    {
     "data": {
      "text/plain": [
       "[{'code': 'taste',\n",
       "  'label': '맛',\n",
       "  'count': 905,\n",
       "  '__typename': 'VisitorReviewStatsAnalysisThemes'},\n",
       " {'code': 'total',\n",
       "  'label': '만족도',\n",
       "  'count': 502,\n",
       "  '__typename': 'VisitorReviewStatsAnalysisThemes'},\n",
       " {'code': 'amount',\n",
       "  'label': '음식량',\n",
       "  'count': 75,\n",
       "  '__typename': 'VisitorReviewStatsAnalysisThemes'},\n",
       " {'code': 'service',\n",
       "  'label': '서비스',\n",
       "  'count': 67,\n",
       "  '__typename': 'VisitorReviewStatsAnalysisThemes'},\n",
       " {'code': 'price',\n",
       "  'label': '가격',\n",
       "  'count': 49,\n",
       "  '__typename': 'VisitorReviewStatsAnalysisThemes'},\n",
       " {'code': 'waitingtime',\n",
       "  'label': '대기시간',\n",
       "  'count': 45,\n",
       "  '__typename': 'VisitorReviewStatsAnalysisThemes'},\n",
       " {'code': 'parking',\n",
       "  'label': '주차',\n",
       "  'count': 11,\n",
       "  '__typename': 'VisitorReviewStatsAnalysisThemes'},\n",
       " {'code': 'cleanliness',\n",
       "  'label': '청결도',\n",
       "  'count': 8,\n",
       "  '__typename': 'VisitorReviewStatsAnalysisThemes'},\n",
       " {'code': 'delivery',\n",
       "  'label': '배달',\n",
       "  'count': 6,\n",
       "  '__typename': 'VisitorReviewStatsAnalysisThemes'},\n",
       " {'code': 'mood',\n",
       "  'label': '분위기',\n",
       "  'count': 5,\n",
       "  '__typename': 'VisitorReviewStatsAnalysisThemes'},\n",
       " {'code': 'menu',\n",
       "  'label': '메뉴',\n",
       "  'count': 4,\n",
       "  '__typename': 'VisitorReviewStatsAnalysisThemes'},\n",
       " {'code': 'location',\n",
       "  'label': '위치',\n",
       "  'count': 4,\n",
       "  '__typename': 'VisitorReviewStatsAnalysisThemes'},\n",
       " {'code': 'covid19',\n",
       "  'label': '방역',\n",
       "  'count': 3,\n",
       "  '__typename': 'VisitorReviewStatsAnalysisThemes'},\n",
       " {'code': 'purpose',\n",
       "  'label': '목적',\n",
       "  'count': 3,\n",
       "  '__typename': 'VisitorReviewStatsAnalysisThemes'}]"
      ]
     },
     "execution_count": 2,
     "metadata": {},
     "output_type": "execute_result"
    }
   ],
   "source": [
    "df = pd.DataFrame(json_result[0]['data']['visitorReviews']['items'])\n",
    "\n",
    "pd.DataFrame(json_result[1]['data']['visitorReviewStats'])[['id','review','analysis','visitorReviewsTotal','ratingReviewsTotal']]\n",
    "\n",
    "\n",
    "# 리뷰 아이콘에 위치한 데이터\n",
    "reviews = json_result[1]['data']['visitorReviewStats']['analysis']['themes']\n",
    "\n",
    "# 식당 메뉴 정보\n",
    "menus = json_result[1]['data']['visitorReviewStats']['analysis']['menus']\n",
    "\n",
    "# rating 요약 정보 (이런 점이 좋았어요.)\n",
    "ratings = json_result[1]['data']['visitorReviewStats']['analysis']['votedKeyword']['details']\n",
    "\n",
    "json_result[1]['data']['visitorReviewStats']['analysis']['themes']"
   ]
  },
  {
   "cell_type": "code",
   "execution_count": 89,
   "metadata": {},
   "outputs": [
    {
     "data": {
      "text/plain": [
       "[{'category': None,\n",
       "  'code': 'food_good',\n",
       "  'iconUrl': 'https://ssl.pstatic.net/static/pup/emoji/face_savoring_food20220119222022.png',\n",
       "  'iconCode': 'face_savoring_food',\n",
       "  'displayName': '음식이 맛있어요',\n",
       "  'count': 2032,\n",
       "  'previousRank': None,\n",
       "  '__typename': 'VisitorReviewStatsAnalysisVoteKeywordDetail'},\n",
       " {'category': None,\n",
       "  'code': 'price_cheap',\n",
       "  'iconUrl': 'https://ssl.pstatic.net/static/pup/emoji/coin20220119222025.png',\n",
       "  'iconCode': 'coin',\n",
       "  'displayName': '가성비가 좋아요',\n",
       "  'count': 509,\n",
       "  'previousRank': None,\n",
       "  '__typename': 'VisitorReviewStatsAnalysisVoteKeywordDetail'},\n",
       " {'category': None,\n",
       "  'code': 'large',\n",
       "  'iconUrl': 'https://ssl.pstatic.net/static/pup/emoji/steamed_rice20220119222024.png',\n",
       "  'iconCode': 'steamed_rice',\n",
       "  'displayName': '양이 많아요',\n",
       "  'count': 420,\n",
       "  'previousRank': None,\n",
       "  '__typename': 'VisitorReviewStatsAnalysisVoteKeywordDetail'},\n",
       " {'category': None,\n",
       "  'code': 'fresh',\n",
       "  'iconUrl': 'https://ssl.pstatic.net/static/pup/emoji/leaf20220119222023.png',\n",
       "  'iconCode': 'leaf',\n",
       "  'displayName': '재료가 신선해요',\n",
       "  'count': 362,\n",
       "  'previousRank': None,\n",
       "  '__typename': 'VisitorReviewStatsAnalysisVoteKeywordDetail'},\n",
       " {'category': None,\n",
       "  'code': 'spacious',\n",
       "  'iconUrl': 'https://ssl.pstatic.net/static/pup/emoji/eyes20220119222026.png',\n",
       "  'iconCode': 'eyes',\n",
       "  'displayName': '매장이 넓어요',\n",
       "  'count': 285,\n",
       "  'previousRank': None,\n",
       "  '__typename': 'VisitorReviewStatsAnalysisVoteKeywordDetail'},\n",
       " {'category': None,\n",
       "  'code': 'eat_alone',\n",
       "  'iconUrl': 'https://ssl.pstatic.net/static/pup/emoji/rice_ball20220119222026.png',\n",
       "  'iconCode': 'rice_ball',\n",
       "  'displayName': '혼밥하기 좋아요',\n",
       "  'count': 249,\n",
       "  'previousRank': None,\n",
       "  '__typename': 'VisitorReviewStatsAnalysisVoteKeywordDetail'},\n",
       " {'category': None,\n",
       "  'code': 'special_menu',\n",
       "  'iconUrl': 'https://ssl.pstatic.net/static/pup/emoji/cook20220119222024.png',\n",
       "  'iconCode': 'cook',\n",
       "  'displayName': '특별한 메뉴가 있어요',\n",
       "  'count': 240,\n",
       "  'previousRank': None,\n",
       "  '__typename': 'VisitorReviewStatsAnalysisVoteKeywordDetail'},\n",
       " {'category': None,\n",
       "  'code': 'kind',\n",
       "  'iconUrl': 'https://ssl.pstatic.net/static/pup/emoji/beating_heart20220119222223.png',\n",
       "  'iconCode': 'beating_heart',\n",
       "  'displayName': '친절해요',\n",
       "  'count': 232,\n",
       "  'previousRank': None,\n",
       "  '__typename': 'VisitorReviewStatsAnalysisVoteKeywordDetail'},\n",
       " {'category': None,\n",
       "  'code': 'parking_easy',\n",
       "  'iconUrl': 'https://ssl.pstatic.net/static/pup/emoji/park_sign20220119222222.png',\n",
       "  'iconCode': 'park_sign',\n",
       "  'displayName': '주차하기 편해요',\n",
       "  'count': 148,\n",
       "  'previousRank': None,\n",
       "  '__typename': 'VisitorReviewStatsAnalysisVoteKeywordDetail'},\n",
       " {'category': None,\n",
       "  'code': 'store_clean',\n",
       "  'iconUrl': 'https://ssl.pstatic.net/static/pup/emoji/sparkles20220119222028.png',\n",
       "  'iconCode': 'sparkles',\n",
       "  'displayName': '매장이 청결해요',\n",
       "  'count': 72,\n",
       "  'previousRank': None,\n",
       "  '__typename': 'VisitorReviewStatsAnalysisVoteKeywordDetail'},\n",
       " {'category': None,\n",
       "  'code': 'together',\n",
       "  'iconUrl': 'https://ssl.pstatic.net/static/pup/emoji/busts_in_silhouette20220119222027.png',\n",
       "  'iconCode': 'busts_in_silhouette',\n",
       "  'displayName': '단체모임 하기 좋아요',\n",
       "  'count': 49,\n",
       "  'previousRank': None,\n",
       "  '__typename': 'VisitorReviewStatsAnalysisVoteKeywordDetail'},\n",
       " {'category': None,\n",
       "  'code': 'toilet_clean',\n",
       "  'iconUrl': 'https://ssl.pstatic.net/static/pup/emoji/restroom20220119222222.png',\n",
       "  'iconCode': 'restroom',\n",
       "  'displayName': '화장실이 깨끗해요',\n",
       "  'count': 22,\n",
       "  'previousRank': None,\n",
       "  '__typename': 'VisitorReviewStatsAnalysisVoteKeywordDetail'},\n",
       " {'category': None,\n",
       "  'code': 'special_day',\n",
       "  'iconUrl': 'https://ssl.pstatic.net/static/pup/emoji/bouquet20220119222223.png',\n",
       "  'iconCode': 'bouquet',\n",
       "  'displayName': '특별한 날 가기 좋아요',\n",
       "  'count': 20,\n",
       "  'previousRank': None,\n",
       "  '__typename': 'VisitorReviewStatsAnalysisVoteKeywordDetail'},\n",
       " {'category': None,\n",
       "  'code': 'interior_cool',\n",
       "  'iconUrl': 'https://ssl.pstatic.net/static/pup/emoji/couch_and_lamp20220119222025.png',\n",
       "  'iconCode': 'couch_and_lamp',\n",
       "  'displayName': '인테리어가 멋져요',\n",
       "  'count': 12,\n",
       "  'previousRank': None,\n",
       "  '__typename': 'VisitorReviewStatsAnalysisVoteKeywordDetail'},\n",
       " {'category': None,\n",
       "  'code': 'view_good',\n",
       "  'iconUrl': 'https://ssl.pstatic.net/static/pup/emoji/framed_picture20220119222027.png',\n",
       "  'iconCode': 'framed_picture',\n",
       "  'displayName': '뷰가 좋아요',\n",
       "  'count': 11,\n",
       "  'previousRank': None,\n",
       "  '__typename': 'VisitorReviewStatsAnalysisVoteKeywordDetail'}]"
      ]
     },
     "execution_count": 89,
     "metadata": {},
     "output_type": "execute_result"
    }
   ],
   "source": [
    "url = \"https://pcmap-api.place.naver.com/graphql\"\n",
    "\n",
    "# headers = {'User-Agent' : '개인 user-agent', 'Content-Type': 'application/json', 'accept': '*/*', 'accept-encoding': 'gzip, deflate, br', 'accept-language': 'ko'}\n",
    "headers = {'Content-Type':\"application/json\"\n",
    "    ,\"accept\":\"*/*\",'accept-encoding':'gzip, deflate, br','accept-language':\"ko\",\"User-Agent\":\"Mozilla/5.0 (Windows NT 10.0; Win64; x64) AppleWebKit/537.36 (KHTML, like Gecko) Chrome/104.0.0.0 Safari/537.36\"}\n",
    "\n",
    "headers['Content-Type'] = \"application/json\"\n",
    "headers['accept'] = '*/*'\n",
    "headers['accept-encoding'] = 'gzip, deflate, br'\n",
    "headers['accept-language'] = 'ko'\n",
    "\n",
    "bus_list = [\"601999582\",\"\"]\n",
    "\n",
    "\n",
    "for bus_id in bus_list:\n",
    "    payload =     {\n",
    "        \"operationName\" : \"getVisitorReviewStats\",\n",
    "\n",
    "        \"query\": \"query getVisitorReviewStats($id: String, $itemId: String, $businessType: String = \\\"place\\\") {\\n  visitorReviewStats(input: {businessId: $id, itemId: $itemId, businessType: $businessType}) {\\n    id\\n    name\\n    apolloCacheId\\n    review {\\n      avgRating\\n      totalCount\\n      scores {\\n        count\\n        score\\n        __typename\\n      }\\n      starDistribution {\\n        count\\n        score\\n        __typename\\n      }\\n      imageReviewCount\\n      authorCount\\n      maxSingleReviewScoreCount\\n      maxScoreWithMaxCount\\n      __typename\\n    }\\n    analysis {\\n      themes {\\n        code\\n        label\\n        count\\n        __typename\\n      }\\n      menus {\\n        label\\n        count\\n        __typename\\n      }\\n      votedKeyword {\\n        totalCount\\n        reviewCount\\n        userCount\\n        details {\\n          category\\n          code\\n          iconUrl\\n          iconCode\\n          displayName\\n          count\\n          previousRank\\n          __typename\\n        }\\n        __typename\\n      }\\n      __typename\\n    }\\n    visitorReviewsTotal\\n    ratingReviewsTotal\\n    __typename\\n  }\\n}\\n\",\n",
    "\n",
    "        \"variables\": {\"businessType\": \"restaurant\", \"id\": f\"{bus_id}\"},\n",
    "        \"businessType\": \"restaurant\",\n",
    "        \"id\": f\"{bus_id}\"\n",
    "        }\n",
    "\n",
    "    res = requests.post(headers=headers, url=url, data=json.dumps(payload))\n",
    "\n",
    "    # pd.DataFrame(res.json())\n",
    "    json_result = json.loads(res.text)\n",
    "\n",
    "    pd.DataFrame(json_result['data']['visitorReviewStats']['analysis']['votedKeyword']['details'])[['code','displayName','count']]\n"
   ]
  },
  {
   "cell_type": "code",
   "execution_count": 91,
   "metadata": {},
   "outputs": [
    {
     "data": {
      "text/html": [
       "<div>\n",
       "<style scoped>\n",
       "    .dataframe tbody tr th:only-of-type {\n",
       "        vertical-align: middle;\n",
       "    }\n",
       "\n",
       "    .dataframe tbody tr th {\n",
       "        vertical-align: top;\n",
       "    }\n",
       "\n",
       "    .dataframe thead th {\n",
       "        text-align: right;\n",
       "    }\n",
       "</style>\n",
       "<table border=\"1\" class=\"dataframe\">\n",
       "  <thead>\n",
       "    <tr style=\"text-align: right;\">\n",
       "      <th></th>\n",
       "      <th>code</th>\n",
       "      <th>displayName</th>\n",
       "      <th>count</th>\n",
       "    </tr>\n",
       "  </thead>\n",
       "  <tbody>\n",
       "    <tr>\n",
       "      <th>0</th>\n",
       "      <td>food_good</td>\n",
       "      <td>음식이 맛있어요</td>\n",
       "      <td>2032</td>\n",
       "    </tr>\n",
       "    <tr>\n",
       "      <th>1</th>\n",
       "      <td>price_cheap</td>\n",
       "      <td>가성비가 좋아요</td>\n",
       "      <td>509</td>\n",
       "    </tr>\n",
       "    <tr>\n",
       "      <th>2</th>\n",
       "      <td>large</td>\n",
       "      <td>양이 많아요</td>\n",
       "      <td>420</td>\n",
       "    </tr>\n",
       "    <tr>\n",
       "      <th>3</th>\n",
       "      <td>fresh</td>\n",
       "      <td>재료가 신선해요</td>\n",
       "      <td>362</td>\n",
       "    </tr>\n",
       "    <tr>\n",
       "      <th>4</th>\n",
       "      <td>spacious</td>\n",
       "      <td>매장이 넓어요</td>\n",
       "      <td>285</td>\n",
       "    </tr>\n",
       "    <tr>\n",
       "      <th>5</th>\n",
       "      <td>eat_alone</td>\n",
       "      <td>혼밥하기 좋아요</td>\n",
       "      <td>249</td>\n",
       "    </tr>\n",
       "    <tr>\n",
       "      <th>6</th>\n",
       "      <td>special_menu</td>\n",
       "      <td>특별한 메뉴가 있어요</td>\n",
       "      <td>240</td>\n",
       "    </tr>\n",
       "    <tr>\n",
       "      <th>7</th>\n",
       "      <td>kind</td>\n",
       "      <td>친절해요</td>\n",
       "      <td>232</td>\n",
       "    </tr>\n",
       "    <tr>\n",
       "      <th>8</th>\n",
       "      <td>parking_easy</td>\n",
       "      <td>주차하기 편해요</td>\n",
       "      <td>148</td>\n",
       "    </tr>\n",
       "    <tr>\n",
       "      <th>9</th>\n",
       "      <td>store_clean</td>\n",
       "      <td>매장이 청결해요</td>\n",
       "      <td>72</td>\n",
       "    </tr>\n",
       "    <tr>\n",
       "      <th>10</th>\n",
       "      <td>together</td>\n",
       "      <td>단체모임 하기 좋아요</td>\n",
       "      <td>49</td>\n",
       "    </tr>\n",
       "    <tr>\n",
       "      <th>11</th>\n",
       "      <td>toilet_clean</td>\n",
       "      <td>화장실이 깨끗해요</td>\n",
       "      <td>22</td>\n",
       "    </tr>\n",
       "    <tr>\n",
       "      <th>12</th>\n",
       "      <td>special_day</td>\n",
       "      <td>특별한 날 가기 좋아요</td>\n",
       "      <td>20</td>\n",
       "    </tr>\n",
       "    <tr>\n",
       "      <th>13</th>\n",
       "      <td>interior_cool</td>\n",
       "      <td>인테리어가 멋져요</td>\n",
       "      <td>12</td>\n",
       "    </tr>\n",
       "    <tr>\n",
       "      <th>14</th>\n",
       "      <td>view_good</td>\n",
       "      <td>뷰가 좋아요</td>\n",
       "      <td>11</td>\n",
       "    </tr>\n",
       "  </tbody>\n",
       "</table>\n",
       "</div>"
      ],
      "text/plain": [
       "             code   displayName  count\n",
       "0       food_good      음식이 맛있어요   2032\n",
       "1     price_cheap      가성비가 좋아요    509\n",
       "2           large        양이 많아요    420\n",
       "3           fresh      재료가 신선해요    362\n",
       "4        spacious       매장이 넓어요    285\n",
       "5       eat_alone      혼밥하기 좋아요    249\n",
       "6    special_menu   특별한 메뉴가 있어요    240\n",
       "7            kind          친절해요    232\n",
       "8    parking_easy      주차하기 편해요    148\n",
       "9     store_clean      매장이 청결해요     72\n",
       "10       together   단체모임 하기 좋아요     49\n",
       "11   toilet_clean     화장실이 깨끗해요     22\n",
       "12    special_day  특별한 날 가기 좋아요     20\n",
       "13  interior_cool     인테리어가 멋져요     12\n",
       "14      view_good        뷰가 좋아요     11"
      ]
     },
     "execution_count": 91,
     "metadata": {},
     "output_type": "execute_result"
    }
   ],
   "source": [
    "\n"
   ]
  },
  {
   "cell_type": "code",
   "execution_count": null,
   "metadata": {},
   "outputs": [],
   "source": []
  }
 ],
 "metadata": {
  "kernelspec": {
   "display_name": "Python 3.9.13 ('finalproject')",
   "language": "python",
   "name": "python3"
  },
  "language_info": {
   "codemirror_mode": {
    "name": "ipython",
    "version": 3
   },
   "file_extension": ".py",
   "mimetype": "text/x-python",
   "name": "python",
   "nbconvert_exporter": "python",
   "pygments_lexer": "ipython3",
   "version": "3.9.13"
  },
  "orig_nbformat": 4,
  "vscode": {
   "interpreter": {
    "hash": "2a32a1e3db3a3df7faab03eb15d423ca2f32480178c695e3b24fa0ea078e64a6"
   }
  }
 },
 "nbformat": 4,
 "nbformat_minor": 2
}
