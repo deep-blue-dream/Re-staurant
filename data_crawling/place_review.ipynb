{
 "cells": [
  {
   "cell_type": "code",
   "execution_count": 35,
   "metadata": {},
   "outputs": [
    {
     "name": "stdout",
     "output_type": "stream",
     "text": [
      "48729816\n"
     ]
    },
    {
     "data": {
      "text/plain": [
       "[{'data': {'visitorReviewStats': {'id': 48729816,\n",
       "    'name': None,\n",
       "    'apolloCacheId': None,\n",
       "    'review': {'avgRating': 4.45,\n",
       "     'totalCount': 274,\n",
       "     'scores': [{'count': 12,\n",
       "       'score': None,\n",
       "       '__typename': 'VisitorReviewScore'},\n",
       "      {'count': 1, 'score': None, '__typename': 'VisitorReviewScore'},\n",
       "      {'count': 6, 'score': None, '__typename': 'VisitorReviewScore'},\n",
       "      {'count': 6, 'score': None, '__typename': 'VisitorReviewScore'},\n",
       "      {'count': 69, 'score': None, '__typename': 'VisitorReviewScore'},\n",
       "      {'count': 44, 'score': None, '__typename': 'VisitorReviewScore'}],\n",
       "     'starDistribution': [{'count': None,\n",
       "       'score': '0.5',\n",
       "       '__typename': 'VisitorReviewScore'},\n",
       "      {'count': 0, 'score': '1.0', '__typename': 'VisitorReviewScore'},\n",
       "      {'count': 0, 'score': '1.5', '__typename': 'VisitorReviewScore'},\n",
       "      {'count': 0, 'score': '2.0', '__typename': 'VisitorReviewScore'},\n",
       "      {'count': 0, 'score': '2.5', '__typename': 'VisitorReviewScore'},\n",
       "      {'count': None, 'score': '3.0', '__typename': 'VisitorReviewScore'},\n",
       "      {'count': None, 'score': '3.5', '__typename': 'VisitorReviewScore'},\n",
       "      {'count': None, 'score': '4.0', '__typename': 'VisitorReviewScore'},\n",
       "      {'count': None, 'score': '4.5', '__typename': 'VisitorReviewScore'},\n",
       "      {'count': None, 'score': '5.0', '__typename': 'VisitorReviewScore'}],\n",
       "     'imageReviewCount': 32,\n",
       "     'authorCount': 202,\n",
       "     'maxSingleReviewScoreCount': 69,\n",
       "     'maxScoreWithMaxCount': '5.0',\n",
       "     '__typename': 'VisitorReviewStats'},\n",
       "    'analysis': {'themes': [{'code': 'taste',\n",
       "       'label': '맛',\n",
       "       'count': 63,\n",
       "       '__typename': 'VisitorReviewStatsAnalysisThemes'},\n",
       "      {'code': 'total',\n",
       "       'label': '만족도',\n",
       "       'count': 32,\n",
       "       '__typename': 'VisitorReviewStatsAnalysisThemes'},\n",
       "      {'code': 'service',\n",
       "       'label': '서비스',\n",
       "       'count': 19,\n",
       "       '__typename': 'VisitorReviewStatsAnalysisThemes'},\n",
       "      {'code': 'amount',\n",
       "       'label': '음식량',\n",
       "       'count': 6,\n",
       "       '__typename': 'VisitorReviewStatsAnalysisThemes'},\n",
       "      {'code': 'menu',\n",
       "       'label': '메뉴',\n",
       "       'count': 2,\n",
       "       '__typename': 'VisitorReviewStatsAnalysisThemes'},\n",
       "      {'code': 'price',\n",
       "       'label': '가격',\n",
       "       'count': 2,\n",
       "       '__typename': 'VisitorReviewStatsAnalysisThemes'},\n",
       "      {'code': 'mood',\n",
       "       'label': '분위기',\n",
       "       'count': 1,\n",
       "       '__typename': 'VisitorReviewStatsAnalysisThemes'},\n",
       "      {'code': 'cleanliness',\n",
       "       'label': '청결도',\n",
       "       'count': 1,\n",
       "       '__typename': 'VisitorReviewStatsAnalysisThemes'}],\n",
       "     'menus': [{'label': '삼겹살',\n",
       "       'count': 26,\n",
       "       '__typename': 'VisitorReviewStatsAnalysisMenus'},\n",
       "      {'label': '고기',\n",
       "       'count': 22,\n",
       "       '__typename': 'VisitorReviewStatsAnalysisMenus'},\n",
       "      {'label': '칼국수',\n",
       "       'count': 7,\n",
       "       '__typename': 'VisitorReviewStatsAnalysisMenus'},\n",
       "      {'label': '꽃게',\n",
       "       'count': 7,\n",
       "       '__typename': 'VisitorReviewStatsAnalysisMenus'},\n",
       "      {'label': '찌개',\n",
       "       'count': 6,\n",
       "       '__typename': 'VisitorReviewStatsAnalysisMenus'},\n",
       "      {'label': '숙성삼겹살',\n",
       "       'count': 4,\n",
       "       '__typename': 'VisitorReviewStatsAnalysisMenus'},\n",
       "      {'label': '된장찌개',\n",
       "       'count': 4,\n",
       "       '__typename': 'VisitorReviewStatsAnalysisMenus'},\n",
       "      {'label': '김치찌개',\n",
       "       'count': 4,\n",
       "       '__typename': 'VisitorReviewStatsAnalysisMenus'},\n",
       "      {'label': '냉면',\n",
       "       'count': 2,\n",
       "       '__typename': 'VisitorReviewStatsAnalysisMenus'},\n",
       "      {'label': '하이볼',\n",
       "       'count': 1,\n",
       "       '__typename': 'VisitorReviewStatsAnalysisMenus'},\n",
       "      {'label': '육회',\n",
       "       'count': 1,\n",
       "       '__typename': 'VisitorReviewStatsAnalysisMenus'},\n",
       "      {'label': '등심',\n",
       "       'count': 1,\n",
       "       '__typename': 'VisitorReviewStatsAnalysisMenus'},\n",
       "      {'label': '돼지고기',\n",
       "       'count': 1,\n",
       "       '__typename': 'VisitorReviewStatsAnalysisMenus'},\n",
       "      {'label': '계란찜',\n",
       "       'count': 1,\n",
       "       '__typename': 'VisitorReviewStatsAnalysisMenus'},\n",
       "      {'label': '김치찌개짱',\n",
       "       'count': 1,\n",
       "       '__typename': 'VisitorReviewStatsAnalysisMenus'}],\n",
       "     'votedKeyword': {'totalCount': 252,\n",
       "      'reviewCount': 146,\n",
       "      'userCount': 138,\n",
       "      'details': [{'category': None,\n",
       "        'code': 'food_good',\n",
       "        'iconUrl': 'https://ssl.pstatic.net/static/pup/emoji/face_savoring_food20220119222022.png',\n",
       "        'iconCode': 'face_savoring_food',\n",
       "        'displayName': '음식이 맛있어요',\n",
       "        'count': 116,\n",
       "        'previousRank': None,\n",
       "        '__typename': 'VisitorReviewStatsAnalysisVoteKeywordDetail'},\n",
       "       {'category': None,\n",
       "        'code': 'kind',\n",
       "        'iconUrl': 'https://ssl.pstatic.net/static/pup/emoji/beating_heart20220119222223.png',\n",
       "        'iconCode': 'beating_heart',\n",
       "        'displayName': '친절해요',\n",
       "        'count': 36,\n",
       "        'previousRank': None,\n",
       "        '__typename': 'VisitorReviewStatsAnalysisVoteKeywordDetail'},\n",
       "       {'category': None,\n",
       "        'code': 'fresh',\n",
       "        'iconUrl': 'https://ssl.pstatic.net/static/pup/emoji/leaf20220119222023.png',\n",
       "        'iconCode': 'leaf',\n",
       "        'displayName': '재료가 신선해요',\n",
       "        'count': 27,\n",
       "        'previousRank': None,\n",
       "        '__typename': 'VisitorReviewStatsAnalysisVoteKeywordDetail'},\n",
       "       {'category': None,\n",
       "        'code': 'special_menu',\n",
       "        'iconUrl': 'https://ssl.pstatic.net/static/pup/emoji/cook20220119222024.png',\n",
       "        'iconCode': 'cook',\n",
       "        'displayName': '특별한 메뉴가 있어요',\n",
       "        'count': 21,\n",
       "        'previousRank': None,\n",
       "        '__typename': 'VisitorReviewStatsAnalysisVoteKeywordDetail'},\n",
       "       {'category': None,\n",
       "        'code': 'store_clean',\n",
       "        'iconUrl': 'https://ssl.pstatic.net/static/pup/emoji/sparkles20220119222028.png',\n",
       "        'iconCode': 'sparkles',\n",
       "        'displayName': '매장이 청결해요',\n",
       "        'count': 9,\n",
       "        'previousRank': None,\n",
       "        '__typename': 'VisitorReviewStatsAnalysisVoteKeywordDetail'},\n",
       "       {'category': None,\n",
       "        'code': 'price_cheap',\n",
       "        'iconUrl': 'https://ssl.pstatic.net/static/pup/emoji/coin20220119222025.png',\n",
       "        'iconCode': 'coin',\n",
       "        'displayName': '가성비가 좋아요',\n",
       "        'count': 8,\n",
       "        'previousRank': None,\n",
       "        '__typename': 'VisitorReviewStatsAnalysisVoteKeywordDetail'},\n",
       "       {'category': None,\n",
       "        'code': 'together',\n",
       "        'iconUrl': 'https://ssl.pstatic.net/static/pup/emoji/busts_in_silhouette20220119222027.png',\n",
       "        'iconCode': 'busts_in_silhouette',\n",
       "        'displayName': '단체모임 하기 좋아요',\n",
       "        'count': 8,\n",
       "        'previousRank': None,\n",
       "        '__typename': 'VisitorReviewStatsAnalysisVoteKeywordDetail'},\n",
       "       {'category': None,\n",
       "        'code': 'interior_cool',\n",
       "        'iconUrl': 'https://ssl.pstatic.net/static/pup/emoji/couch_and_lamp20220119222025.png',\n",
       "        'iconCode': 'couch_and_lamp',\n",
       "        'displayName': '인테리어가 멋져요',\n",
       "        'count': 7,\n",
       "        'previousRank': None,\n",
       "        '__typename': 'VisitorReviewStatsAnalysisVoteKeywordDetail'},\n",
       "       {'category': None,\n",
       "        'code': 'large',\n",
       "        'iconUrl': 'https://ssl.pstatic.net/static/pup/emoji/steamed_rice20220119222024.png',\n",
       "        'iconCode': 'steamed_rice',\n",
       "        'displayName': '양이 많아요',\n",
       "        'count': 7,\n",
       "        'previousRank': None,\n",
       "        '__typename': 'VisitorReviewStatsAnalysisVoteKeywordDetail'},\n",
       "       {'category': None,\n",
       "        'code': 'spacious',\n",
       "        'iconUrl': 'https://ssl.pstatic.net/static/pup/emoji/eyes20220119222026.png',\n",
       "        'iconCode': 'eyes',\n",
       "        'displayName': '매장이 넓어요',\n",
       "        'count': 6,\n",
       "        'previousRank': None,\n",
       "        '__typename': 'VisitorReviewStatsAnalysisVoteKeywordDetail'},\n",
       "       {'category': None,\n",
       "        'code': 'special_day',\n",
       "        'iconUrl': 'https://ssl.pstatic.net/static/pup/emoji/bouquet20220119222223.png',\n",
       "        'iconCode': 'bouquet',\n",
       "        'displayName': '특별한 날 가기 좋아요',\n",
       "        'count': 5,\n",
       "        'previousRank': None,\n",
       "        '__typename': 'VisitorReviewStatsAnalysisVoteKeywordDetail'},\n",
       "       {'category': None,\n",
       "        'code': 'parking_easy',\n",
       "        'iconUrl': 'https://ssl.pstatic.net/static/pup/emoji/park_sign20220119222222.png',\n",
       "        'iconCode': 'park_sign',\n",
       "        'displayName': '주차하기 편해요',\n",
       "        'count': 1,\n",
       "        'previousRank': None,\n",
       "        '__typename': 'VisitorReviewStatsAnalysisVoteKeywordDetail'},\n",
       "       {'category': None,\n",
       "        'code': 'toilet_clean',\n",
       "        'iconUrl': 'https://ssl.pstatic.net/static/pup/emoji/restroom20220119222222.png',\n",
       "        'iconCode': 'restroom',\n",
       "        'displayName': '화장실이 깨끗해요',\n",
       "        'count': 1,\n",
       "        'previousRank': None,\n",
       "        '__typename': 'VisitorReviewStatsAnalysisVoteKeywordDetail'}],\n",
       "      '__typename': 'VisitorReviewStatsAnalysisVoteKeyword'},\n",
       "     '__typename': 'VisitorReviewStatsAnalysis'},\n",
       "    'visitorReviewsTotal': 274,\n",
       "    'ratingReviewsTotal': 163,\n",
       "    '__typename': 'VisitorReviewStatsResult'}}}]"
      ]
     },
     "execution_count": 35,
     "metadata": {},
     "output_type": "execute_result"
    }
   ],
   "source": [
    "import requests\n",
    "import json\n",
    "import pandas as pd\n",
    "\n",
    "url = \"https://pcmap-api.place.naver.com/graphql\"\n",
    "\n",
    "# headers = {'User-Agent' : '개인 user-agent', 'Content-Type': 'application/json', 'accept': '*/*', 'accept-encoding': 'gzip, deflate, br', 'accept-language': 'ko'}\n",
    "headers = {'Content-Type':\"application/json\"\n",
    "    ,\"accept\":\"*/*\",'accept-encoding':'gzip, deflate, br','accept-language':\"ko\",\"User-Agent\":\"Mozilla/5.0 (Windows NT 10.0; Win64; x64) AppleWebKit/537.36 (KHTML, like Gecko) Chrome/104.0.0.0 Safari/537.36\"}\n",
    "\n",
    "id = [\"48729816\"]\n",
    "\n",
    "res_list = []\n",
    "for bus_id in id:\n",
    "    print(bus_id)\n",
    "    payload = {\n",
    "        \"operationName\" : \"getVisitorReviewStats\",\n",
    "\n",
    "        \"query\": \"query getVisitorReviewStats($id: String, $itemId: String, $businessType: String = \\\"place\\\") {\\n  visitorReviewStats(input: {businessId: $id, itemId: $itemId, businessType: $businessType}) {\\n    id\\n    name\\n    apolloCacheId\\n    review {\\n      avgRating\\n      totalCount\\n      scores {\\n        count\\n        score\\n        __typename\\n      }\\n      starDistribution {\\n        count\\n        score\\n        __typename\\n      }\\n      imageReviewCount\\n      authorCount\\n      maxSingleReviewScoreCount\\n      maxScoreWithMaxCount\\n      __typename\\n    }\\n    analysis {\\n      themes {\\n        code\\n        label\\n        count\\n        __typename\\n      }\\n      menus {\\n        label\\n        count\\n        __typename\\n      }\\n      votedKeyword {\\n        totalCount\\n        reviewCount\\n        userCount\\n        details {\\n          category\\n          code\\n          iconUrl\\n          iconCode\\n          displayName\\n          count\\n          previousRank\\n          __typename\\n        }\\n        __typename\\n      }\\n      __typename\\n    }\\n    visitorReviewsTotal\\n    ratingReviewsTotal\\n    __typename\\n  }\\n}\\n\",\n",
    "\n",
    "        \"variables\": {\"businessType\": \"restaurant\", \"id\": f\"{bus_id}\"},\n",
    "        \"businessType\": \"restaurant\",\n",
    "        \"id\": f\"{bus_id}\"\n",
    "        \n",
    "        }\n",
    "\n",
    "\n",
    "    res = json.loads(requests.post(headers=headers, url=url, data=json.dumps(payload)).text)\n",
    "    res_list.append(res)\n",
    "\n",
    "res_list"
   ]
  },
  {
   "cell_type": "code",
   "execution_count": 40,
   "metadata": {},
   "outputs": [
    {
     "data": {
      "text/plain": [
       "dict_keys(['themes', 'menus', 'votedKeyword', '__typename'])"
      ]
     },
     "execution_count": 40,
     "metadata": {},
     "output_type": "execute_result"
    }
   ],
   "source": [
    "res_list[0]['data']['visitorReviewStats']['analysis'].keys()"
   ]
  },
  {
   "cell_type": "code",
   "execution_count": 13,
   "metadata": {},
   "outputs": [
    {
     "name": "stdout",
     "output_type": "stream",
     "text": [
      "dict_keys(['id', 'rating', 'author', 'body', 'thumbnail', 'media', 'tags', 'status', 'visited', 'originType', 'item', 'businessName', 'isFollowing', 'visitCount', 'votedKeywords', '__typename'])\n"
     ]
    }
   ],
   "source": [
    "# review dummy\n",
    "print(json_result[0]['data']['visitorReviews']['items'][0].keys())\n",
    "data = json_result[0]['data']['visitorReviews']['items'][1]\n"
   ]
  },
  {
   "cell_type": "code",
   "execution_count": 14,
   "metadata": {},
   "outputs": [
    {
     "data": {
      "text/plain": [
       "dict_keys(['items', 'starDistribution', 'hideProductSelectBox', 'total', '__typename'])"
      ]
     },
     "execution_count": 14,
     "metadata": {},
     "output_type": "execute_result"
    }
   ],
   "source": [
    "json_result[0]['data']['visitorReviews'].keys()"
   ]
  },
  {
   "cell_type": "code",
   "execution_count": 15,
   "metadata": {},
   "outputs": [
    {
     "name": "stdout",
     "output_type": "stream",
     "text": [
      "dict_keys(['id', 'name', 'apolloCacheId', 'review', 'analysis', 'visitorReviewsTotal', 'ratingReviewsTotal', '__typename'])\n"
     ]
    }
   ],
   "source": [
    "print(json_result[1]['data']['visitorReviewStats'].keys())\n",
    "data2 = json_result[1]['data']['visitorReviewStats']"
   ]
  },
  {
   "cell_type": "code",
   "execution_count": 16,
   "metadata": {},
   "outputs": [
    {
     "data": {
      "text/plain": [
       "3602"
      ]
     },
     "execution_count": 16,
     "metadata": {},
     "output_type": "execute_result"
    }
   ],
   "source": [
    "data2['id']\n",
    "\n",
    "data2['review']['avgRating']\n",
    "\n",
    "# data2['analysis']['themes']\n",
    "\n",
    "# data2['analysis']['votedKeyword']['details'][3]\n",
    "\n",
    "data2['review']['totalCount']\n",
    "\n",
    "data2['review']['authorCount']\n",
    "\n",
    "\n"
   ]
  },
  {
   "cell_type": "code",
   "execution_count": 17,
   "metadata": {},
   "outputs": [
    {
     "data": {
      "text/plain": [
       "dict_keys(['themes', 'menus', 'votedKeyword', '__typename'])"
      ]
     },
     "execution_count": 17,
     "metadata": {},
     "output_type": "execute_result"
    }
   ],
   "source": [
    "data2['analysis'].keys()"
   ]
  },
  {
   "cell_type": "code",
   "execution_count": 18,
   "metadata": {},
   "outputs": [
    {
     "data": {
      "text/plain": [
       "'5.0'"
      ]
     },
     "execution_count": 18,
     "metadata": {},
     "output_type": "execute_result"
    }
   ],
   "source": [
    "# 평균 평점\n",
    "data2['review']['avgRating']\n",
    "\n",
    "# 방문자 리뷰 수\n",
    "data2['review']['totalCount']\n",
    "\n",
    "# \n",
    "# data2['review']['scores']\n",
    "\n",
    "# 평균 평점 참여자수\n",
    "data2['review']['authorCount']\n",
    "\n",
    "data2['review']['maxScoreWithMaxCount']\n"
   ]
  },
  {
   "cell_type": "code",
   "execution_count": 19,
   "metadata": {},
   "outputs": [
    {
     "data": {
      "text/plain": [
       "[{'code': 'taste',\n",
       "  'label': '맛',\n",
       "  'count': 905,\n",
       "  '__typename': 'VisitorReviewStatsAnalysisThemes'},\n",
       " {'code': 'total',\n",
       "  'label': '만족도',\n",
       "  'count': 503,\n",
       "  '__typename': 'VisitorReviewStatsAnalysisThemes'},\n",
       " {'code': 'amount',\n",
       "  'label': '음식량',\n",
       "  'count': 75,\n",
       "  '__typename': 'VisitorReviewStatsAnalysisThemes'},\n",
       " {'code': 'service',\n",
       "  'label': '서비스',\n",
       "  'count': 67,\n",
       "  '__typename': 'VisitorReviewStatsAnalysisThemes'},\n",
       " {'code': 'price',\n",
       "  'label': '가격',\n",
       "  'count': 49,\n",
       "  '__typename': 'VisitorReviewStatsAnalysisThemes'},\n",
       " {'code': 'waitingtime',\n",
       "  'label': '대기시간',\n",
       "  'count': 45,\n",
       "  '__typename': 'VisitorReviewStatsAnalysisThemes'},\n",
       " {'code': 'parking',\n",
       "  'label': '주차',\n",
       "  'count': 11,\n",
       "  '__typename': 'VisitorReviewStatsAnalysisThemes'},\n",
       " {'code': 'cleanliness',\n",
       "  'label': '청결도',\n",
       "  'count': 8,\n",
       "  '__typename': 'VisitorReviewStatsAnalysisThemes'},\n",
       " {'code': 'delivery',\n",
       "  'label': '배달',\n",
       "  'count': 6,\n",
       "  '__typename': 'VisitorReviewStatsAnalysisThemes'},\n",
       " {'code': 'mood',\n",
       "  'label': '분위기',\n",
       "  'count': 5,\n",
       "  '__typename': 'VisitorReviewStatsAnalysisThemes'},\n",
       " {'code': 'menu',\n",
       "  'label': '메뉴',\n",
       "  'count': 4,\n",
       "  '__typename': 'VisitorReviewStatsAnalysisThemes'},\n",
       " {'code': 'location',\n",
       "  'label': '위치',\n",
       "  'count': 4,\n",
       "  '__typename': 'VisitorReviewStatsAnalysisThemes'},\n",
       " {'code': 'covid19',\n",
       "  'label': '방역',\n",
       "  'count': 3,\n",
       "  '__typename': 'VisitorReviewStatsAnalysisThemes'},\n",
       " {'code': 'purpose',\n",
       "  'label': '목적',\n",
       "  'count': 3,\n",
       "  '__typename': 'VisitorReviewStatsAnalysisThemes'}]"
      ]
     },
     "execution_count": 19,
     "metadata": {},
     "output_type": "execute_result"
    }
   ],
   "source": [
    "df = pd.DataFrame(json_result[0]['data']['visitorReviews']['items'])\n",
    "\n",
    "pd.DataFrame(json_result[1]['data']['visitorReviewStats'])[['id','review','analysis','visitorReviewsTotal','ratingReviewsTotal']]\n",
    "\n",
    "\n",
    "# 리뷰 아이콘에 위치한 데이터\n",
    "reviews = json_result[1]['data']['visitorReviewStats']['analysis']['themes']\n",
    "\n",
    "# 식당 메뉴 정보\n",
    "menus = json_result[1]['data']['visitorReviewStats']['analysis']['menus']\n",
    "\n",
    "# rating 요약 정보 (이런 점이 좋았어요.)\n",
    "ratings = json_result[1]['data']['visitorReviewStats']['analysis']['votedKeyword']['details']\n",
    "\n",
    "json_result[1]['data']['visitorReviewStats']['analysis']['themes']"
   ]
  },
  {
   "cell_type": "code",
   "execution_count": 42,
   "metadata": {},
   "outputs": [
    {
     "data": {
      "text/plain": [
       "Index(['category', 'code', 'iconUrl', 'iconCode', 'displayName', 'count',\n",
       "       'previousRank', '__typename', 'busId'],\n",
       "      dtype='object')"
      ]
     },
     "execution_count": 42,
     "metadata": {},
     "output_type": "execute_result"
    }
   ],
   "source": [
    "import requests\n",
    "import json\n",
    "import pandas as pd\n",
    "\n",
    "url = \"https://pcmap-api.place.naver.com/graphql\"\n",
    "\n",
    "headers = {'Content-Type':\"application/json\"\n",
    "    ,\"accept\":\"*/*\",'accept-encoding':'gzip, deflate, br','accept-language':\"ko\",\"User-Agent\":\"Mozilla/5.0 (Windows NT 10.0; Win64; x64) AppleWebKit/537.36 (KHTML, like Gecko) Chrome/104.0.0.0 Safari/537.36\"}\n",
    "\n",
    "\n",
    "bus_list = [\"601999582\",\"13578191\"]\n",
    "\n",
    "places = []\n",
    "\n",
    "for bus_id in bus_list:\n",
    "    payload =     {\n",
    "        \"operationName\" : \"getVisitorReviewStats\",\n",
    "\n",
    "        \"query\": \"query getVisitorReviewStats($id: String, $itemId: String, $businessType: String = \\\"place\\\") {\\n  visitorReviewStats(input: {businessId: $id, itemId: $itemId, businessType: $businessType}) {\\n    id\\n    name\\n    apolloCacheId\\n    review {\\n      avgRating\\n      totalCount\\n      scores {\\n        count\\n        score\\n        __typename\\n      }\\n      starDistribution {\\n        count\\n        score\\n        __typename\\n      }\\n      imageReviewCount\\n      authorCount\\n      maxSingleReviewScoreCount\\n      maxScoreWithMaxCount\\n      __typename\\n    }\\n    analysis {\\n      themes {\\n        code\\n        label\\n        count\\n        __typename\\n      }\\n      menus {\\n        label\\n        count\\n        __typename\\n      }\\n      votedKeyword {\\n        totalCount\\n        reviewCount\\n        userCount\\n        details {\\n          category\\n          code\\n          iconUrl\\n          iconCode\\n          displayName\\n          count\\n          previousRank\\n          __typename\\n        }\\n        __typename\\n      }\\n      __typename\\n    }\\n    visitorReviewsTotal\\n    ratingReviewsTotal\\n    __typename\\n  }\\n}\\n\",\n",
    "\n",
    "        \"variables\": {\"businessType\": \"restaurant\", \"id\": f\"{bus_id}\"},\n",
    "        \"businessType\": \"restaurant\",\n",
    "        \"id\": f\"{bus_id}\"\n",
    "        }\n",
    "\n",
    "    res = requests.post(headers=headers, url=url, data=json.dumps(payload))\n",
    "\n",
    "    # pd.DataFrame(res.json())\n",
    "    details = json.loads(res.text)['data']['visitorReviewStats']['analysis']['votedKeyword']['details']\n",
    "\n",
    "    for detail in details:\n",
    "        detail['busId'] = bus_id\n",
    "        places.append(detail) \n",
    "\n",
    "# df = pd.DataFrame(places)\n",
    "pd.DataFrame(places).columns"
   ]
  },
  {
   "cell_type": "code",
   "execution_count": null,
   "metadata": {},
   "outputs": [],
   "source": [
    "[{\"operationName\":\"getVisitorReviewPhotosInVisitorReviewTab\",\"variables\":{\"businessId\":\"11802387\",\"businessType\":\"restaurant\",\"item\":\"0\",\"page\":1,\"size\":20},\"query\":\"query getVisitorReviewPhotosInVisitorReviewTab($businessId: String!, $businessType: String, $page: Int, $size: Int, $theme: String, $item: String) {\\n  visitorReviews(input: {businessId: $businessId, businessType: $businessType, page: $page, size: $size, theme: $theme, item: $item, isPhotoUsed: true, includeReceiptPhotos: false}) {\\n    items {\\n      id\\n      rating\\n      author {\\n        id\\n        nickname\\n        from\\n        imageUrl\\n        objectId\\n        url\\n        __typename\\n      }\\n      body\\n      thumbnail\\n      media {\\n        type\\n        thumbnail\\n        __typename\\n      }\\n      tags\\n      status\\n      visited\\n      originType\\n      item {\\n        name\\n        code\\n        options\\n        __typename\\n      }\\n      businessName\\n      isFollowing\\n      visitCount\\n      votedKeywords {\\n        code\\n        iconUrl\\n        iconCode\\n        displayName\\n        __typename\\n      }\\n      __typename\\n    }\\n    starDistribution {\\n      score\\n      count\\n      __typename\\n    }\\n    hideProductSelectBox\\n    total\\n    __typename\\n  }\\n}\\n\"},{\"operationName\":\"getFollowingReviews\",\"variables\":{\"input\":{\"businessId\":\"11802387\"}},\"query\":\"query getFollowingReviews($input: FollowingReviewsInput) {\\n  followingReviews(input: $input) {\\n    reviews {\\n      id\\n      rating\\n      author {\\n        id\\n        nickname\\n        from\\n        imageUrl\\n        objectId\\n        url\\n        review {\\n          totalCount\\n          imageCount\\n          avgRating\\n          __typename\\n        }\\n        theme {\\n          totalCount\\n          __typename\\n        }\\n        apolloCacheId\\n        __typename\\n      }\\n      body\\n      thumbnail\\n      media {\\n        type\\n        thumbnail\\n        class\\n        __typename\\n      }\\n      tags\\n      status\\n      visitCount\\n      viewCount\\n      visited\\n      created\\n      reply {\\n        editUrl\\n        body\\n        editedBy\\n        created\\n        replyTitle\\n        __typename\\n      }\\n      originType\\n      item {\\n        name\\n        code\\n        options\\n        __typename\\n      }\\n      businessName\\n      votedKeywords {\\n        code\\n        iconCode\\n        displayName\\n        __typename\\n      }\\n      userIdno\\n      isFollowing\\n      followerCount\\n      followRequested\\n      loginIdno\\n      __typename\\n    }\\n    __typename\\n  }\\n}\\n\"},{\"operationName\":\"getVisitorRatingReviews\",\"variables\":{\"input\":{\"businessId\":\"11802387\",\"businessType\":\"restaurant\",\"item\":\"0\",\"bookingBusinessId\":\"194677\",\"page\":1,\"size\":10,\"includeContent\":false,\"getUserStats\":true,\"includeReceiptPhotos\":true,\"cidList\":[\"220036\",\"220049\",\"220262\"]},\"id\":\"11802387\"},\"query\":\"query getVisitorRatingReviews($input: VisitorReviewsInput) {\\n  visitorReviews(input: $input) {\\n    total\\n    items {\\n      id\\n      rating\\n      author {\\n        id\\n        nickname\\n        from\\n        imageUrl\\n        objectId\\n        url\\n        review {\\n          totalCount\\n          imageCount\\n          avgRating\\n          __typename\\n        }\\n        theme {\\n          totalCount\\n          __typename\\n        }\\n        __typename\\n      }\\n      visitCount\\n      visited\\n      originType\\n      reply {\\n        editUrl\\n        body\\n        editedBy\\n        created\\n        replyTitle\\n        __typename\\n      }\\n      votedKeywords {\\n        code\\n        iconUrl\\n        iconCode\\n        displayName\\n        __typename\\n      }\\n      businessName\\n      status\\n      userIdno\\n      isFollowing\\n      followerCount\\n      followRequested\\n      loginIdno\\n      receiptInfoUrl\\n      __typename\\n    }\\n    __typename\\n  }\\n}\\n\"},{\"operationName\":\"getVisitorReviewThemeLists\",\"variables\":{\"input\":{\"businessId\":\"11802387\",\"page\":1,\"display\":3}},\"query\":\"query getVisitorReviewThemeLists($input: ThemeListsInput) {\\n  themeLists(input: $input) {\\n    themeLists {\\n      id\\n      title\\n      viewCount\\n      itemCount\\n      reviews {\\n        businessName\\n        reviewBody\\n        imageUrl\\n        __typename\\n      }\\n      authorNickname\\n      authorImageUrl\\n      isFollowing\\n      themeListUrl\\n      authorUrl\\n      __typename\\n    }\\n    total\\n    __typename\\n  }\\n}\\n\"},{\"operationName\":\"getVisitorReviews\",\"variables\":{\"input\":{\"businessId\":\"11802387\",\"businessType\":\"restaurant\",\"item\":\"0\",\"bookingBusinessId\":\"194677\",\"page\":1,\"size\":10,\"isPhotoUsed\":false,\"includeContent\":true,\"getUserStats\":true,\"includeReceiptPhotos\":true,\"cidList\":[\"220036\",\"220049\",\"220262\"]}},\"query\":\"query getVisitorReviews($input: VisitorReviewsInput) {\\n  visitorReviews(input: $input) {\\n    items {\\n      id\\n      rating\\n      author {\\n        id\\n        nickname\\n        from\\n        imageUrl\\n        objectId\\n        url\\n        review {\\n          totalCount\\n          imageCount\\n          avgRating\\n          __typename\\n        }\\n        theme {\\n          totalCount\\n          __typename\\n        }\\n        __typename\\n      }\\n      body\\n      thumbnail\\n      media {\\n        type\\n        thumbnail\\n        class\\n        __typename\\n      }\\n      tags\\n      status\\n      visitCount\\n      viewCount\\n      visited\\n      created\\n      reply {\\n        editUrl\\n        body\\n        editedBy\\n        created\\n        replyTitle\\n        __typename\\n      }\\n      originType\\n      item {\\n        name\\n        code\\n        options\\n        __typename\\n      }\\n      language\\n      highlightOffsets\\n      apolloCacheId\\n      translatedText\\n      businessName\\n      showBookingItemName\\n      showBookingItemOptions\\n      bookingItemName\\n      bookingItemOptions\\n      votedKeywords {\\n        code\\n        iconUrl\\n        iconCode\\n        displayName\\n        __typename\\n      }\\n      userIdno\\n      isFollowing\\n      followerCount\\n      followRequested\\n      loginIdno\\n      receiptInfoUrl\\n      __typename\\n    }\\n    starDistribution {\\n      score\\n      count\\n      __typename\\n    }\\n    hideProductSelectBox\\n    total\\n    showRecommendationSort\\n    itemReviewStats {\\n      score\\n      count\\n      itemId\\n      starDistribution {\\n        score\\n        count\\n        __typename\\n      }\\n      __typename\\n    }\\n    __typename\\n  }\\n}\\n\"},{\"operationName\":\"getVisitorReviewStats\",\"variables\":{\"businessType\":\"restaurant\",\"id\":\"11802387\"},\"query\":\"query getVisitorReviewStats($id: String, $itemId: String, $businessType: String = \\\"place\\\") {\\n  visitorReviewStats(input: {businessId: $id, itemId: $itemId, businessType: $businessType}) {\\n    id\\n    name\\n    apolloCacheId\\n    review {\\n      avgRating\\n      totalCount\\n      scores {\\n        count\\n        score\\n        __typename\\n      }\\n      starDistribution {\\n        count\\n        score\\n        __typename\\n      }\\n      imageReviewCount\\n      authorCount\\n      maxSingleReviewScoreCount\\n      maxScoreWithMaxCount\\n      __typename\\n    }\\n    analysis {\\n      themes {\\n        code\\n        label\\n        count\\n        __typename\\n      }\\n      menus {\\n        label\\n        count\\n        __typename\\n      }\\n      votedKeyword {\\n        totalCount\\n        reviewCount\\n        userCount\\n        details {\\n          category\\n          code\\n          iconUrl\\n          iconCode\\n          displayName\\n          count\\n          previousRank\\n          __typename\\n        }\\n        __typename\\n      }\\n      __typename\\n    }\\n    visitorReviewsTotal\\n    ratingReviewsTotal\\n    __typename\\n  }\\n}\\n\"},{\"operationName\":\"getVisitorReviewStats\",\"variables\":{\"businessType\":\"restaurant\",\"id\":\"11802387\",\"itemId\":\"0\"},\"query\":\"query getVisitorReviewStats($id: String, $itemId: String, $businessType: String = \\\"place\\\") {\\n  visitorReviewStats(input: {businessId: $id, itemId: $itemId, businessType: $businessType}) {\\n    id\\n    name\\n    apolloCacheId\\n    review {\\n      avgRating\\n      totalCount\\n      scores {\\n        count\\n        score\\n        __typename\\n      }\\n      starDistribution {\\n        count\\n        score\\n        __typename\\n      }\\n      imageReviewCount\\n      authorCount\\n      maxSingleReviewScoreCount\\n      maxScoreWithMaxCount\\n      __typename\\n    }\\n    analysis {\\n      themes {\\n        code\\n        label\\n        count\\n        __typename\\n      }\\n      menus {\\n        label\\n        count\\n        __typename\\n      }\\n      votedKeyword {\\n        totalCount\\n        reviewCount\\n        userCount\\n        details {\\n          category\\n          code\\n          iconUrl\\n          iconCode\\n          displayName\\n          count\\n          previousRank\\n          __typename\\n        }\\n        __typename\\n      }\\n      __typename\\n    }\\n    visitorReviewsTotal\\n    ratingReviewsTotal\\n    __typename\\n  }\\n}\\n\"}]"
   ]
  }
 ],
 "metadata": {
  "kernelspec": {
   "display_name": "Python 3.9.13 ('finalproject')",
   "language": "python",
   "name": "python3"
  },
  "language_info": {
   "codemirror_mode": {
    "name": "ipython",
    "version": 3
   },
   "file_extension": ".py",
   "mimetype": "text/x-python",
   "name": "python",
   "nbconvert_exporter": "python",
   "pygments_lexer": "ipython3",
   "version": "3.9.13"
  },
  "orig_nbformat": 4,
  "vscode": {
   "interpreter": {
    "hash": "2a32a1e3db3a3df7faab03eb15d423ca2f32480178c695e3b24fa0ea078e64a6"
   }
  }
 },
 "nbformat": 4,
 "nbformat_minor": 2
}
