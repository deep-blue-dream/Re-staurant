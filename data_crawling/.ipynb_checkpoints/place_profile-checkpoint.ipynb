{
 "cells": [
  {
   "cell_type": "code",
   "execution_count": 2,
   "metadata": {},
   "outputs": [
    {
     "ename": "ModuleNotFoundError",
     "evalue": "No module named 'master'",
     "output_type": "error",
     "traceback": [
      "\u001b[0;31m---------------------------------------------------------------------------\u001b[0m",
      "\u001b[0;31mModuleNotFoundError\u001b[0m                       Traceback (most recent call last)",
      "Input \u001b[0;32mIn [2]\u001b[0m, in \u001b[0;36m<cell line: 2>\u001b[0;34m()\u001b[0m\n\u001b[1;32m      1\u001b[0m \u001b[38;5;28;01mimport\u001b[39;00m \u001b[38;5;21;01mrequests\u001b[39;00m\n\u001b[0;32m----> 2\u001b[0m \u001b[38;5;28;01mfrom\u001b[39;00m \u001b[38;5;21;01mmaster\u001b[39;00m \u001b[38;5;28;01mimport\u001b[39;00m headers\n\u001b[1;32m      3\u001b[0m \u001b[38;5;28;01mimport\u001b[39;00m \u001b[38;5;21;01mjson\u001b[39;00m\n\u001b[1;32m      4\u001b[0m \u001b[38;5;28;01mimport\u001b[39;00m \u001b[38;5;21;01mpandas\u001b[39;00m \u001b[38;5;28;01mas\u001b[39;00m \u001b[38;5;21;01mpd\u001b[39;00m\n",
      "\u001b[0;31mModuleNotFoundError\u001b[0m: No module named 'master'"
     ]
    }
   ],
   "source": [
    "import requests\n",
    "from master import headers\n",
    "import json\n",
    "import pandas as pd\n",
    "\n",
    "url = \"https://pcmap-api.place.naver.com/graphql\"\n",
    "\n",
    "# headers = {'User-Agent' : '개인 user-agent', 'Content-Type': 'application/json', 'accept': '*/*', 'accept-encoding': 'gzip, deflate, br', 'accept-language': 'ko'}\n",
    "headers['Content-Type'] = \"application/json\"\n",
    "headers['accept'] = '*/*'\n",
    "headers['accept-encoding'] = 'gzip, deflate, br'\n",
    "headers['accept-language'] = 'ko'\n",
    "    "
   ]
  },
  {
   "cell_type": "code",
   "execution_count": null,
   "metadata": {},
   "outputs": [],
   "source": [
    "import pyproj\n",
    "epsg3857 = pyproj.Proj(init='epsg:3857')\n",
    "wgs84 = pyproj.Proj(init='epsg:4326')\n",
    "pyproj.transform(epsg3857,wgs84,14127898.0825082,4515937.3711204)"
   ]
  },
  {
   "cell_type": "code",
   "execution_count": null,
   "metadata": {},
   "outputs": [],
   "source": [
    "import time\n",
    "places = {}\n",
    "for j in range(1,30):\n",
    "    r = requests.get(url=f'https://map.naver.com/v5/api/search?caller=pcweb&query=%EC%9D%8C%EC%8B%9D%EC%A0%90&type=all&searchCoord=126.91306779999996;37.54920139999987&page={j}&displayCount=100&isPlaceRecommendationReplace=true&lang=ko', headers=headers)\n",
    "    if 'error' in r.json().keys():\n",
    "        print(r.json()['error']['displayMsg'])\n",
    "        break\n",
    "    places[j] = r.json()['result']['place']['list']\n",
    "    time.sleep(0.5)\n",
    "# places"
   ]
  },
  {
   "cell_type": "code",
   "execution_count": null,
   "metadata": {},
   "outputs": [],
   "source": [
    "place_id_dict = {}\n",
    "for i in places.values():\n",
    "    for j in i:\n",
    "        place_id_dict[j['name']] = j['id']\n",
    "\n",
    "# place_id_dict"
   ]
  },
  {
   "cell_type": "code",
   "execution_count": null,
   "metadata": {},
   "outputs": [],
   "source": [
    "place_info = []\n",
    "for idx,place in enumerate(place_id_dict.values()):\n",
    "    place_info.append(requests.get(url=f'https://map.naver.com/v5/api/sites/summary/{place}?lang=ko',headers=headers).json())\n",
    "    if idx == 20:\n",
    "        break\n",
    "    time.sleep(0.5)"
   ]
  },
  {
   "cell_type": "code",
   "execution_count": null,
   "metadata": {},
   "outputs": [],
   "source": [
    "place_info[0].keys()"
   ]
  },
  {
   "cell_type": "code",
   "execution_count": null,
   "metadata": {},
   "outputs": [],
   "source": [
    "options = pd.DataFrame(place_info[0]['options'])\n",
    "options['bus_id'] = place_info[0]['id']\n",
    "\n",
    "for idx in range(1,len(place_info)):\n",
    "    df = pd.DataFrame(place_info[idx]['options'])\n",
    "    df['bus_id'] = place_info[idx]['id']\n",
    "    options = pd.concat([options,df])\n",
    "\n",
    "options.reset_index(drop=True,inplace=True)\n",
    "\n",
    "options\n",
    "\n"
   ]
  },
  {
   "cell_type": "code",
   "execution_count": null,
   "metadata": {},
   "outputs": [],
   "source": [
    "place_profile = pd.DataFrame(place_info)[['id','name','category' ,'x','y','fullAddress','fullRoadAddress','phone','description','images','imageURL','categories','bizhourInfo','menus','reviewCount']]\n",
    "# place_profile"
   ]
  },
  {
   "cell_type": "code",
   "execution_count": null,
   "metadata": {},
   "outputs": [],
   "source": [
    "# images 테이블\n",
    "images_list = []\n",
    "for i in range(len(place_info)):\n",
    "    for j in range(len(place_info[i]['images'])):\n",
    "        place_info[i]['images'][j]['bus_id'] = place_info[i]['id']\n",
    "    images_list.append(place_info[i]['images'])\n",
    "\n",
    "df = pd.DataFrame(images_list[0])\n",
    "\n",
    "for i in range(1,len(images_list)):\n",
    "    df = pd.concat([df,pd.DataFrame(images_list[i])])\n",
    "\n",
    "df = df.reset_index(drop=True)[['bus_id','number','url','modDate']]\n",
    "df"
   ]
  },
  {
   "cell_type": "code",
   "execution_count": null,
   "metadata": {},
   "outputs": [],
   "source": [
    "# menus\n",
    "menus = pd.DataFrame(place_profile['menus'][0])\n",
    "menus['bus_id'] = place_profile['id'][0]\n",
    "\n",
    "for i in range(1,len(place_profile)):\n",
    "    df = pd.DataFrame(place_profile['menus'][i])\n",
    "    df['bus_id'] = place_profile['id'][i]\n",
    "    menus = pd.concat([menus,df])\n",
    "\n",
    "menus = menus[['bus_id','name','price']].reset_index(drop=True)\n",
    "menus"
   ]
  },
  {
   "cell_type": "code",
   "execution_count": null,
   "metadata": {},
   "outputs": [],
   "source": [
    "# 식당 기본 상세정보\n",
    "place_default_profile = place_profile[['id','name','category','x','y','fullAddress','fullRoadAddress','phone','description','imageURL','bizhourInfo','reviewCount']].copy()\n",
    "# place_default_profile.reset_index(drop=True,inplace=True)"
   ]
  },
  {
   "cell_type": "code",
   "execution_count": null,
   "metadata": {},
   "outputs": [],
   "source": [
    "place_default_profile.rename(columns={'id':'busId','name':'restaurantName','category':'restaurantCategory','phone':'tellNumber','bizhourInfo':'businessHourInfo'},inplace=True)"
   ]
  },
  {
   "cell_type": "code",
   "execution_count": null,
   "metadata": {},
   "outputs": [],
   "source": [
    "place_default_profile['siCode'] = place_default_profile['fullAddress'].apply(lambda x: x.split(\" \")[0])\n",
    "place_default_profile['guCode'] = place_default_profile['fullAddress'].apply(lambda x: x.split(\" \")[1])\n",
    "place_default_profile['dongCode'] = place_default_profile['fullAddress'].apply(lambda x: x.split(\" \")[2])\n",
    "\n",
    "# place_default_profile"
   ]
  },
  {
   "cell_type": "code",
   "execution_count": null,
   "metadata": {},
   "outputs": [],
   "source": [
    "import json\n",
    "payload = [{f\"{k}\":f\"{v}\" for k, v in row.items()} for _,row in place_default_profile.iterrows()]\n",
    "\n",
    "for row in payload:\n",
    "    requests.post(headers=headers, url = \"http://localhost:8080/restaurant/createRestaurantInfo\",data=json.dumps(row, indent=4, ensure_ascii=False).encode('utf-8'))"
   ]
  },
  {
   "cell_type": "code",
   "execution_count": null,
   "metadata": {},
   "outputs": [],
   "source": [
    "\n",
    "for row in payload:\n",
    "    print(json.dumps(row, indent=4, ensure_ascii=False))\n"
   ]
  }
 ],
 "metadata": {
  "kernelspec": {
   "display_name": "Python 3 (ipykernel)",
   "language": "python",
   "name": "python3"
  },
  "language_info": {
   "codemirror_mode": {
    "name": "ipython",
    "version": 3
   },
   "file_extension": ".py",
   "mimetype": "text/x-python",
   "name": "python",
   "nbconvert_exporter": "python",
   "pygments_lexer": "ipython3",
   "version": "3.10.5"
  },
  "vscode": {
   "interpreter": {
    "hash": "104a1e8d0e143de6671cd84bec4765ba8ff75e7b2ec0f49253e3a7f9c2043948"
   }
  }
 },
 "nbformat": 4,
 "nbformat_minor": 2
}
